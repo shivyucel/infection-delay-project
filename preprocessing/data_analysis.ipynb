{
 "cells": [
  {
   "cell_type": "code",
   "execution_count": 1,
   "id": "14826486",
   "metadata": {},
   "outputs": [],
   "source": [
    "import h3\n",
    "import pandas as pd\n",
    "import geopandas as gpd\n",
    "import shapely\n",
    "import pandas as pd\n",
    "from shapely.geometry import MultiPolygon, Polygon, Point\n",
    "import numpy as np\n",
    "import contextily as ctx\n",
    "import matplotlib.pyplot as plt\n",
    "import geobr\n",
    "import pyreadr\n",
    "import matplotlib\n",
    "%matplotlib inline"
   ]
  },
  {
   "cell_type": "markdown",
   "id": "1e2a8ba7",
   "metadata": {},
   "source": [
    "# Goal of this analysis\n",
    "1. Load in social isolation (cell-phone mobility data), census demographic data, commuting survey data, and COVID-19 case data\n",
    "2. Create exploratory visuals to understand distribution of regions within Sao Paulo\n",
    "3. Spatial analysis to interpolate demographic, commuting, and COVID-19 data to the isolation hexagons for transferrable analysis"
   ]
  },
  {
   "cell_type": "code",
   "execution_count": 2,
   "id": "3f132368",
   "metadata": {},
   "outputs": [],
   "source": [
    "data_path = '/Users/shivyucel/Documents/SDS_2021.nosync/SDS_2020-2021/SDS_Thesis/Data/'"
   ]
  },
  {
   "cell_type": "markdown",
   "id": "72001907",
   "metadata": {},
   "source": [
    "### Load in Isolation Data\n",
    "* Each isolation hexagon represents the proportion of individuals who live in a hexagon, who leave in a given day\n",
    "    * The data is from a Brazilian mobile phone analytics company"
   ]
  },
  {
   "cell_type": "code",
   "execution_count": 3,
   "id": "dffd347e",
   "metadata": {},
   "outputs": [],
   "source": [
    "iso= pd.read_csv(data_path + 'data-raw/isolation/isolation_sp_h3_Mar-Sep2020.csv')"
   ]
  },
  {
   "cell_type": "code",
   "execution_count": 4,
   "id": "05d2c68b",
   "metadata": {
    "collapsed": true,
    "jupyter": {
     "outputs_hidden": true
    },
    "tags": []
   },
   "outputs": [],
   "source": [
    "iso['coords'] = [Polygon(h3.h3_to_geo_boundary(x, True)) for x in iso['h3']]"
   ]
  },
  {
   "cell_type": "code",
   "execution_count": null,
   "id": "9ba6b7a9",
   "metadata": {},
   "outputs": [],
   "source": [
    "iso = gpd.GeoDataFrame(iso, geometry='coords', crs= {\"init\": \"epsg:4326\"})"
   ]
  },
  {
   "cell_type": "code",
   "execution_count": 5,
   "id": "12b554b2",
   "metadata": {},
   "outputs": [],
   "source": [
    "iso.to_file('Data/data-raw/cleaned/isolation.shp')"
   ]
  },
  {
   "cell_type": "code",
   "execution_count": 9,
   "id": "13083b3c",
   "metadata": {},
   "outputs": [],
   "source": [
    "iso = gpd.read_file(data_path + 'data-raw/cleaned/isolation.shp')"
   ]
  },
  {
   "cell_type": "markdown",
   "id": "4089836a",
   "metadata": {},
   "source": [
    "### Explore "
   ]
  },
  {
   "cell_type": "code",
   "execution_count": 5,
   "id": "2cbe96cc",
   "metadata": {},
   "outputs": [],
   "source": [
    "#convert dates to datetime\n",
    "iso['dt'] = pd.to_datetime(iso['dt'])"
   ]
  },
  {
   "cell_type": "code",
   "execution_count": 6,
   "id": "d4a5a1c7",
   "metadata": {},
   "outputs": [
    {
     "name": "stdout",
     "output_type": "stream",
     "text": [
      "Earliest Date of Isolation Data: 2020-03-01 00:00:00\n",
      "Latest Date of Isolation Data: 2020-09-27 00:00:00\n"
     ]
    }
   ],
   "source": [
    "#get earliest and latest day\n",
    "print(f\"Earliest Date of Isolation Data: {iso['dt'].min()}\")\n",
    "print(f\"Latest Date of Isolation Data: {iso['dt'].max()}\")"
   ]
  },
  {
   "cell_type": "markdown",
   "id": "f88f67af",
   "metadata": {},
   "source": [
    "### Plot of Isolation Hexagons"
   ]
  },
  {
   "cell_type": "code",
   "execution_count": 10,
   "id": "d4fa5e5c",
   "metadata": {},
   "outputs": [],
   "source": [
    "iso_plot = iso.drop_duplicates('h3')"
   ]
  },
  {
   "cell_type": "code",
   "execution_count": 1,
   "id": "429b934b",
   "metadata": {},
   "outputs": [
    {
     "ename": "NameError",
     "evalue": "name 'iso_plot' is not defined",
     "output_type": "error",
     "traceback": [
      "\u001b[0;31m---------------------------------------------------------------------------\u001b[0m",
      "\u001b[0;31mNameError\u001b[0m                                 Traceback (most recent call last)",
      "\u001b[0;32m<ipython-input-1-038242e04c47>\u001b[0m in \u001b[0;36m<module>\u001b[0;34m\u001b[0m\n\u001b[0;32m----> 1\u001b[0;31m \u001b[0miso_plot\u001b[0m\u001b[0;34m.\u001b[0m\u001b[0mreset_index\u001b[0m\u001b[0;34m(\u001b[0m\u001b[0minplace\u001b[0m\u001b[0;34m=\u001b[0m\u001b[0;32mTrue\u001b[0m\u001b[0;34m)\u001b[0m\u001b[0;34m\u001b[0m\u001b[0;34m\u001b[0m\u001b[0m\n\u001b[0m",
      "\u001b[0;31mNameError\u001b[0m: name 'iso_plot' is not defined"
     ]
    }
   ],
   "source": [
    "iso_plot.reset_index(inplace=True)\n",
    "iso_plot.to_csv('h3_ids.csv')"
   ]
  },
  {
   "cell_type": "code",
   "execution_count": 13,
   "id": "dcf048dd",
   "metadata": {
    "tags": []
   },
   "outputs": [
    {
     "name": "stderr",
     "output_type": "stream",
     "text": [
      "/Users/shivyucel/anaconda3/envs/geo_env/lib/python3.9/site-packages/pyproj/crs/crs.py:131: FutureWarning: '+init=<authority>:<code>' syntax is deprecated. '<authority>:<code>' is the preferred initialization method. When making the change, be mindful of axis order changes: https://pyproj4.github.io/pyproj/stable/gotchas.html#axis-order-changes-in-proj-6\n",
      "  in_crs_string = _prepare_from_proj_string(in_crs_string)\n"
     ]
    }
   ],
   "source": [
    "iso_plot = gpd.GeoDataFrame(iso_plot, geometry='coords', crs= {\"init\": \"epsg:4326\"})"
   ]
  },
  {
   "cell_type": "code",
   "execution_count": 14,
   "id": "71d921a0",
   "metadata": {},
   "outputs": [],
   "source": [
    "degree_income = pd.read_csv('/Users/shivyucel/Documents/SDS_2021.nosync/SDS_2020-2021/SDS_Thesis/Thesis_Code/SIR_Model_Paper/weighted_degree_income.csv')"
   ]
  },
  {
   "cell_type": "code",
   "execution_count": 15,
   "id": "616cdba0-a64d-4477-b658-f5b3df5ec242",
   "metadata": {},
   "outputs": [],
   "source": [
    "merged = iso_plot.merge(degree_income, left_on='h3', right_on='hexids', how='right')"
   ]
  },
  {
   "cell_type": "code",
   "execution_count": 16,
   "id": "134f3291",
   "metadata": {},
   "outputs": [
    {
     "data": {
      "text/html": [
       "<div>\n",
       "<style scoped>\n",
       "    .dataframe tbody tr th:only-of-type {\n",
       "        vertical-align: middle;\n",
       "    }\n",
       "\n",
       "    .dataframe tbody tr th {\n",
       "        vertical-align: top;\n",
       "    }\n",
       "\n",
       "    .dataframe thead th {\n",
       "        text-align: right;\n",
       "    }\n",
       "</style>\n",
       "<table border=\"1\" class=\"dataframe\">\n",
       "  <thead>\n",
       "    <tr style=\"text-align: right;\">\n",
       "      <th></th>\n",
       "      <th>h3_x</th>\n",
       "      <th>dt</th>\n",
       "      <th>city</th>\n",
       "      <th>isolated</th>\n",
       "      <th>coords</th>\n",
       "      <th>Unnamed: 0</th>\n",
       "      <th>TARGET</th>\n",
       "      <th>FLUX</th>\n",
       "      <th>hexids</th>\n",
       "      <th>degree_quart</th>\n",
       "      <th>h3_y</th>\n",
       "      <th>weighted_income_avg_head</th>\n",
       "      <th>income_quart</th>\n",
       "      <th>timesaved</th>\n",
       "    </tr>\n",
       "  </thead>\n",
       "  <tbody>\n",
       "    <tr>\n",
       "      <th>0</th>\n",
       "      <td>88a8103a51fffff</td>\n",
       "      <td>2020-03-19</td>\n",
       "      <td>Carapicuíba</td>\n",
       "      <td>0.343290</td>\n",
       "      <td>POLYGON ((-46.82036 -23.54427, -46.81620 -23.5...</td>\n",
       "      <td>0</td>\n",
       "      <td>0.0</td>\n",
       "      <td>633</td>\n",
       "      <td>88a8103a51fffff</td>\n",
       "      <td>3</td>\n",
       "      <td>88a8103a51fffff</td>\n",
       "      <td>1165.157928</td>\n",
       "      <td>2</td>\n",
       "      <td>6.821282</td>\n",
       "    </tr>\n",
       "    <tr>\n",
       "      <th>1</th>\n",
       "      <td>88a8102955fffff</td>\n",
       "      <td>2020-03-19</td>\n",
       "      <td>Franco da Rocha</td>\n",
       "      <td>0.326096</td>\n",
       "      <td>POLYGON ((-46.71925 -23.33228, -46.71509 -23.3...</td>\n",
       "      <td>1</td>\n",
       "      <td>1.0</td>\n",
       "      <td>111</td>\n",
       "      <td>88a8102955fffff</td>\n",
       "      <td>1</td>\n",
       "      <td>88a8102955fffff</td>\n",
       "      <td>1680.573079</td>\n",
       "      <td>3</td>\n",
       "      <td>8.244891</td>\n",
       "    </tr>\n",
       "    <tr>\n",
       "      <th>2</th>\n",
       "      <td>88a81045abfffff</td>\n",
       "      <td>2020-03-19</td>\n",
       "      <td>Suzano</td>\n",
       "      <td>0.363296</td>\n",
       "      <td>POLYGON ((-46.29303 -23.51618, -46.28886 -23.5...</td>\n",
       "      <td>2</td>\n",
       "      <td>2.0</td>\n",
       "      <td>522</td>\n",
       "      <td>88a81045abfffff</td>\n",
       "      <td>2</td>\n",
       "      <td>88a81045abfffff</td>\n",
       "      <td>981.735705</td>\n",
       "      <td>1</td>\n",
       "      <td>6.931241</td>\n",
       "    </tr>\n",
       "    <tr>\n",
       "      <th>3</th>\n",
       "      <td>88a8100327fffff</td>\n",
       "      <td>2020-03-19</td>\n",
       "      <td>São Bernardo do Campo</td>\n",
       "      <td>0.419984</td>\n",
       "      <td>POLYGON ((-46.56606 -23.74172, -46.56189 -23.7...</td>\n",
       "      <td>3</td>\n",
       "      <td>3.0</td>\n",
       "      <td>458</td>\n",
       "      <td>88a8100327fffff</td>\n",
       "      <td>2</td>\n",
       "      <td>88a8100327fffff</td>\n",
       "      <td>1654.233812</td>\n",
       "      <td>3</td>\n",
       "      <td>7.135993</td>\n",
       "    </tr>\n",
       "    <tr>\n",
       "      <th>4</th>\n",
       "      <td>88a81000edfffff</td>\n",
       "      <td>2020-03-19</td>\n",
       "      <td>São Paulo</td>\n",
       "      <td>0.356494</td>\n",
       "      <td>POLYGON ((-46.64712 -23.68740, -46.64295 -23.6...</td>\n",
       "      <td>4</td>\n",
       "      <td>4.0</td>\n",
       "      <td>626</td>\n",
       "      <td>88a81000edfffff</td>\n",
       "      <td>3</td>\n",
       "      <td>88a81000edfffff</td>\n",
       "      <td>993.166598</td>\n",
       "      <td>1</td>\n",
       "      <td>6.885741</td>\n",
       "    </tr>\n",
       "    <tr>\n",
       "      <th>...</th>\n",
       "      <td>...</td>\n",
       "      <td>...</td>\n",
       "      <td>...</td>\n",
       "      <td>...</td>\n",
       "      <td>...</td>\n",
       "      <td>...</td>\n",
       "      <td>...</td>\n",
       "      <td>...</td>\n",
       "      <td>...</td>\n",
       "      <td>...</td>\n",
       "      <td>...</td>\n",
       "      <td>...</td>\n",
       "      <td>...</td>\n",
       "      <td>...</td>\n",
       "    </tr>\n",
       "    <tr>\n",
       "      <th>2594</th>\n",
       "      <td>88a8100507fffff</td>\n",
       "      <td>2020-04-22</td>\n",
       "      <td>São Paulo</td>\n",
       "      <td>0.349310</td>\n",
       "      <td>POLYGON ((-46.71237 -23.61689, -46.70820 -23.6...</td>\n",
       "      <td>2594</td>\n",
       "      <td>2833.0</td>\n",
       "      <td>972</td>\n",
       "      <td>88a8100507fffff</td>\n",
       "      <td>4</td>\n",
       "      <td>88a8100507fffff</td>\n",
       "      <td>14638.662882</td>\n",
       "      <td>4</td>\n",
       "      <td>6.104649</td>\n",
       "    </tr>\n",
       "    <tr>\n",
       "      <th>2595</th>\n",
       "      <td>88a8107aa7fffff</td>\n",
       "      <td>2020-03-08</td>\n",
       "      <td>Arujá</td>\n",
       "      <td>0.299487</td>\n",
       "      <td>POLYGON ((-46.36368 -23.41773, -46.35951 -23.4...</td>\n",
       "      <td>2595</td>\n",
       "      <td>2835.0</td>\n",
       "      <td>288</td>\n",
       "      <td>88a8107aa7fffff</td>\n",
       "      <td>1</td>\n",
       "      <td>88a8107aa7fffff</td>\n",
       "      <td>1349.024195</td>\n",
       "      <td>2</td>\n",
       "      <td>7.674416</td>\n",
       "    </tr>\n",
       "    <tr>\n",
       "      <th>2596</th>\n",
       "      <td>88a8101051fffff</td>\n",
       "      <td>2020-05-03</td>\n",
       "      <td>São Paulo</td>\n",
       "      <td>0.649827</td>\n",
       "      <td>POLYGON ((-46.65876 -23.87366, -46.65459 -23.8...</td>\n",
       "      <td>2596</td>\n",
       "      <td>2842.0</td>\n",
       "      <td>204</td>\n",
       "      <td>88a8101051fffff</td>\n",
       "      <td>1</td>\n",
       "      <td>88a8101051fffff</td>\n",
       "      <td>891.473342</td>\n",
       "      <td>1</td>\n",
       "      <td>7.852626</td>\n",
       "    </tr>\n",
       "    <tr>\n",
       "      <th>2597</th>\n",
       "      <td>88a8100297fffff</td>\n",
       "      <td>2020-03-14</td>\n",
       "      <td>São Paulo</td>\n",
       "      <td>0.094991</td>\n",
       "      <td>POLYGON ((-46.71491 -23.70263, -46.71075 -23.6...</td>\n",
       "      <td>2597</td>\n",
       "      <td>2844.0</td>\n",
       "      <td>478</td>\n",
       "      <td>88a8100297fffff</td>\n",
       "      <td>2</td>\n",
       "      <td>88a8100297fffff</td>\n",
       "      <td>3803.473258</td>\n",
       "      <td>4</td>\n",
       "      <td>7.382454</td>\n",
       "    </tr>\n",
       "    <tr>\n",
       "      <th>2598</th>\n",
       "      <td>88a8107aabfffff</td>\n",
       "      <td>2020-03-26</td>\n",
       "      <td>Guarulhos</td>\n",
       "      <td>0.426769</td>\n",
       "      <td>POLYGON ((-46.37618 -23.42640, -46.37201 -23.4...</td>\n",
       "      <td>2598</td>\n",
       "      <td>2847.0</td>\n",
       "      <td>627</td>\n",
       "      <td>88a8107aabfffff</td>\n",
       "      <td>3</td>\n",
       "      <td>88a8107aabfffff</td>\n",
       "      <td>1005.485973</td>\n",
       "      <td>1</td>\n",
       "      <td>6.563446</td>\n",
       "    </tr>\n",
       "  </tbody>\n",
       "</table>\n",
       "<p>2599 rows × 14 columns</p>\n",
       "</div>"
      ],
      "text/plain": [
       "                 h3_x         dt                   city  isolated  \\\n",
       "0     88a8103a51fffff 2020-03-19            Carapicuíba  0.343290   \n",
       "1     88a8102955fffff 2020-03-19        Franco da Rocha  0.326096   \n",
       "2     88a81045abfffff 2020-03-19                 Suzano  0.363296   \n",
       "3     88a8100327fffff 2020-03-19  São Bernardo do Campo  0.419984   \n",
       "4     88a81000edfffff 2020-03-19              São Paulo  0.356494   \n",
       "...               ...        ...                    ...       ...   \n",
       "2594  88a8100507fffff 2020-04-22              São Paulo  0.349310   \n",
       "2595  88a8107aa7fffff 2020-03-08                  Arujá  0.299487   \n",
       "2596  88a8101051fffff 2020-05-03              São Paulo  0.649827   \n",
       "2597  88a8100297fffff 2020-03-14              São Paulo  0.094991   \n",
       "2598  88a8107aabfffff 2020-03-26              Guarulhos  0.426769   \n",
       "\n",
       "                                                 coords  Unnamed: 0  TARGET  \\\n",
       "0     POLYGON ((-46.82036 -23.54427, -46.81620 -23.5...           0     0.0   \n",
       "1     POLYGON ((-46.71925 -23.33228, -46.71509 -23.3...           1     1.0   \n",
       "2     POLYGON ((-46.29303 -23.51618, -46.28886 -23.5...           2     2.0   \n",
       "3     POLYGON ((-46.56606 -23.74172, -46.56189 -23.7...           3     3.0   \n",
       "4     POLYGON ((-46.64712 -23.68740, -46.64295 -23.6...           4     4.0   \n",
       "...                                                 ...         ...     ...   \n",
       "2594  POLYGON ((-46.71237 -23.61689, -46.70820 -23.6...        2594  2833.0   \n",
       "2595  POLYGON ((-46.36368 -23.41773, -46.35951 -23.4...        2595  2835.0   \n",
       "2596  POLYGON ((-46.65876 -23.87366, -46.65459 -23.8...        2596  2842.0   \n",
       "2597  POLYGON ((-46.71491 -23.70263, -46.71075 -23.6...        2597  2844.0   \n",
       "2598  POLYGON ((-46.37618 -23.42640, -46.37201 -23.4...        2598  2847.0   \n",
       "\n",
       "      FLUX           hexids  degree_quart             h3_y  \\\n",
       "0      633  88a8103a51fffff             3  88a8103a51fffff   \n",
       "1      111  88a8102955fffff             1  88a8102955fffff   \n",
       "2      522  88a81045abfffff             2  88a81045abfffff   \n",
       "3      458  88a8100327fffff             2  88a8100327fffff   \n",
       "4      626  88a81000edfffff             3  88a81000edfffff   \n",
       "...    ...              ...           ...              ...   \n",
       "2594   972  88a8100507fffff             4  88a8100507fffff   \n",
       "2595   288  88a8107aa7fffff             1  88a8107aa7fffff   \n",
       "2596   204  88a8101051fffff             1  88a8101051fffff   \n",
       "2597   478  88a8100297fffff             2  88a8100297fffff   \n",
       "2598   627  88a8107aabfffff             3  88a8107aabfffff   \n",
       "\n",
       "      weighted_income_avg_head  income_quart  timesaved  \n",
       "0                  1165.157928             2   6.821282  \n",
       "1                  1680.573079             3   8.244891  \n",
       "2                   981.735705             1   6.931241  \n",
       "3                  1654.233812             3   7.135993  \n",
       "4                   993.166598             1   6.885741  \n",
       "...                        ...           ...        ...  \n",
       "2594              14638.662882             4   6.104649  \n",
       "2595               1349.024195             2   7.674416  \n",
       "2596                891.473342             1   7.852626  \n",
       "2597               3803.473258             4   7.382454  \n",
       "2598               1005.485973             1   6.563446  \n",
       "\n",
       "[2599 rows x 14 columns]"
      ]
     },
     "execution_count": 16,
     "metadata": {},
     "output_type": "execute_result"
    }
   ],
   "source": [
    "merged"
   ]
  },
  {
   "cell_type": "code",
   "execution_count": 17,
   "id": "eabc6d57",
   "metadata": {
    "tags": []
   },
   "outputs": [
    {
     "data": {
      "image/png": "[encoded data removed]",
      "text/plain": [
       "<Figure size 720x360 with 2 Axes>"
      ]
     },
     "metadata": {
      "needs_background": "light"
     },
     "output_type": "display_data"
    }
   ],
   "source": [
    "merged = merged.to_crs(epsg=3857)\n",
    "\n",
    "import matplotlib.pyplot as plt\n",
    "plt.rcParams[\"font.family\"] = \"Serif\"\n",
    "\n",
    "fig, ax = plt.subplots(figsize=(10, 5))\n",
    "merged.plot(alpha=1, edgecolor='k', ax=ax, column='weighted_income_avg_head', legend=True, cmap='hot')\n",
    "ctx.add_basemap(ax, source=ctx.providers.Stamen.TonerLite)\n",
    "ax.set_axis_off()\n",
    "\n",
    "plt.tight_layout()\n",
    "#plt.title(\"Social Isolation Hexagon Regions\", fontsize=27, pad=20)\n",
    "#plt.show()"
   ]
  },
  {
   "cell_type": "markdown",
   "id": "e399ec56",
   "metadata": {},
   "source": [
    "### Sao Paulo Census Tract Shapefile"
   ]
  },
  {
   "cell_type": "markdown",
   "id": "6fcb548b",
   "metadata": {},
   "source": [
    "Get tract data from geobr package and save as shp"
   ]
  },
  {
   "cell_type": "code",
   "execution_count": 48,
   "id": "71c35fb4",
   "metadata": {
    "tags": []
   },
   "outputs": [
    {
     "name": "stderr",
     "output_type": "stream",
     "text": [
      "<ipython-input-48-7e00167f4285>:2: UserWarning: Column names longer than 10 characters will be truncated when saved to ESRI Shapefile.\n",
      "  tracts.to_file(data_path + 'data-raw/cleaned/census_shp.shp')\n"
     ]
    }
   ],
   "source": [
    "tracts = geobr.read_census_tract(code_tract=\"SP\", year=2010, simplified=False)\n",
    "tracts.to_file(data_path + 'data-raw/cleaned/census_shp.shp')"
   ]
  },
  {
   "cell_type": "code",
   "execution_count": 40,
   "id": "a85e759a",
   "metadata": {},
   "outputs": [],
   "source": [
    "#read in tract data\n",
    "tracts = gpd.read_file(data_path + '/data-raw/cleaned/census_shp.shp')\n"
   ]
  },
  {
   "cell_type": "code",
   "execution_count": 42,
   "id": "100686d3-876d-468a-aed3-0ccbf25f881e",
   "metadata": {},
   "outputs": [],
   "source": [
    "iso_plot = iso_plot.to_crs(epsg=4674)"
   ]
  },
  {
   "cell_type": "code",
   "execution_count": 43,
   "id": "23de3568",
   "metadata": {},
   "outputs": [],
   "source": [
    "merged = gpd.sjoin(tracts, iso_plot, how='inner', op='intersects')"
   ]
  },
  {
   "cell_type": "code",
   "execution_count": 44,
   "id": "0313a883",
   "metadata": {},
   "outputs": [
    {
     "data": {
      "text/plain": [
       "28820"
      ]
     },
     "execution_count": 44,
     "metadata": {},
     "output_type": "execute_result"
    }
   ],
   "source": [
    "# Number of Census Tract Zones That Intersect with Mobility Index\n",
    "len(merged['code_tract'].unique())"
   ]
  },
  {
   "cell_type": "markdown",
   "id": "bcc58918",
   "metadata": {},
   "source": [
    "# Interpolation"
   ]
  },
  {
   "cell_type": "markdown",
   "id": "e6d245bf",
   "metadata": {},
   "source": [
    "## Method:  Demographic Info (Race, Income, etc)"
   ]
  },
  {
   "cell_type": "markdown",
   "id": "cd17fde1",
   "metadata": {},
   "source": [
    "To compute demographic information for each hexagon from the census tract data, the first step is to determine the proportions of demographic characteristics in the census zone, by dividing by the total population (ex. % black). Subsequently, the geographic proportion of each h3 hexagon covered by each census region is determined. The following plot represents an example of an h3 region with many overlapping census regions:"
   ]
  },
  {
   "cell_type": "code",
   "execution_count": 47,
   "id": "64b8fe19",
   "metadata": {},
   "outputs": [],
   "source": [
    "census_data = pd.read_csv(data_path + 'data-raw/census_tracts/census_tracts2010_sp.csv')"
   ]
  },
  {
   "cell_type": "code",
   "execution_count": 48,
   "id": "65d1c1be",
   "metadata": {},
   "outputs": [],
   "source": [
    "census_data.rename(columns={'pop_branca': 'pop_white', 'pop_preta': 'pop_black', \n",
    "                           'pop_amarela': 'pop_yellow', 'pop_parda': 'pop_brown', \n",
    "                           'pop_indigena': 'pop_indigenous'}, inplace=True)"
   ]
  },
  {
   "cell_type": "markdown",
   "id": "4d3e49d9",
   "metadata": {},
   "source": [
    "### Race Information"
   ]
  },
  {
   "cell_type": "code",
   "execution_count": 49,
   "id": "ee04d1d1",
   "metadata": {},
   "outputs": [],
   "source": [
    "#create columns of demographic proportion relative to total population in each census tract\n",
    "for col in census_data.columns:\n",
    "    if col[:3] == 'pop':\n",
    "        census_data[f'propor_{col[4:]}'] = census_data[col]/census_data['pop_total']\n",
    "        "
   ]
  },
  {
   "cell_type": "code",
   "execution_count": 50,
   "id": "dd88d08f",
   "metadata": {},
   "outputs": [],
   "source": [
    "#set south american coordinate system\n",
    "iso_plot = iso_plot.to_crs(epsg=4674)\n",
    "tract_plot = tract_plot.to_crs(epsg=4674)"
   ]
  },
  {
   "cell_type": "code",
   "execution_count": 51,
   "id": "0b479f70",
   "metadata": {
    "tags": []
   },
   "outputs": [],
   "source": [
    "overlay_iso_tract = gpd.overlay(iso_plot, tract_plot, how='intersection')"
   ]
  },
  {
   "cell_type": "code",
   "execution_count": 52,
   "id": "e9a1056d",
   "metadata": {
    "tags": []
   },
   "outputs": [],
   "source": [
    "#get each intersection area between isolation hexagons and census tracts\n",
    "overlay_iso_tract = overlay_iso_tract.merge(iso_plot[['h3', 'geometry']], left_on='h3_1', right_on='h3')"
   ]
  },
  {
   "cell_type": "code",
   "execution_count": 53,
   "id": "f674b615",
   "metadata": {},
   "outputs": [],
   "source": [
    "#get proportion of isolation hexagon in each census tract-iso hexagon intersection area\n",
    "overlay_iso_tract['overlap_proportion'] = [x.area/y.area for x, y in zip(overlay_iso_tract['geometry_x'], overlay_iso_tract['geometry_y'])]"
   ]
  },
  {
   "cell_type": "code",
   "execution_count": 54,
   "id": "927c1331",
   "metadata": {},
   "outputs": [],
   "source": [
    "#get area of isolation hexagon in each census tract-iso hexagon intersection area\n",
    "overlay_iso_tract['overlap_area'] = [x.area for x in overlay_iso_tract['geometry_x']]"
   ]
  },
  {
   "cell_type": "code",
   "execution_count": 55,
   "id": "5d851973",
   "metadata": {},
   "outputs": [],
   "source": [
    "#create list of demographic proportion and code tract columns\n",
    "propor_list = [col for col in census_data.columns if 'propor' in col] + ['code_tract']"
   ]
  },
  {
   "cell_type": "code",
   "execution_count": 56,
   "id": "c44a5655",
   "metadata": {},
   "outputs": [],
   "source": [
    "#make code_tract as int for comparability\n",
    "overlay_iso_tract.code_tract = overlay_iso_tract.code_tract.astype(int)"
   ]
  },
  {
   "cell_type": "code",
   "execution_count": 57,
   "id": "6a5a552d",
   "metadata": {},
   "outputs": [],
   "source": [
    "#merge intersection areas with the proportions of demographic information from each census group\n",
    "overlay_w_propor = overlay_iso_tract.merge(census_data[propor_list], how='left', on='code_tract' )"
   ]
  },
  {
   "cell_type": "code",
   "execution_count": 58,
   "id": "d5a2f677",
   "metadata": {},
   "outputs": [],
   "source": [
    "#get columns with proportions\n",
    "propor_cols = [col for col in overlay_w_propor.columns if col[:6] == 'propor']"
   ]
  },
  {
   "cell_type": "code",
   "execution_count": 59,
   "id": "773e0196",
   "metadata": {},
   "outputs": [],
   "source": [
    "#create weighted proportions for each h3 area's demographic info based on proportion of total area in given census tract\n",
    "for col in propor_cols:\n",
    "    overlay_w_propor[f'weighted_{col}'] = overlay_w_propor[col] * overlay_w_propor['overlap_proportion']"
   ]
  },
  {
   "cell_type": "code",
   "execution_count": 60,
   "id": "2dd826a5",
   "metadata": {},
   "outputs": [],
   "source": [
    "weighted_cols = [col for col in overlay_w_propor.columns if col[:8] == 'weighted']"
   ]
  },
  {
   "cell_type": "code",
   "execution_count": 61,
   "id": "3d6982d6",
   "metadata": {
    "tags": []
   },
   "outputs": [],
   "source": [
    "#sum the weighted proportions for each h3 group \n",
    "weighted_h3 = overlay_w_propor.groupby('h3')[weighted_cols].sum().iloc[:, 1:]"
   ]
  },
  {
   "cell_type": "code",
   "execution_count": null,
   "id": "6d65f6ae",
   "metadata": {},
   "outputs": [],
   "source": [
    "weighted_h3.to_csv(data_path + '/estimates/h3_demographic.csv')"
   ]
  },
  {
   "cell_type": "markdown",
   "id": "da806b03",
   "metadata": {},
   "source": [
    "## Income"
   ]
  },
  {
   "cell_type": "code",
   "execution_count": null,
   "id": "bd039037-0781-4675-956d-af5622e43e4e",
   "metadata": {},
   "outputs": [],
   "source": [
    "#create columns of income proportion relative to total population in each census tract\n",
    "income_cols = []\n",
    "for col in census_data.columns:\n",
    "    if col[:6] == 'income':\n",
    "        income_cols.append(col)\n",
    "        "
   ]
  },
  {
   "cell_type": "code",
   "execution_count": null,
   "id": "03063e5a-e3db-4dc5-9c88-2214463f39fa",
   "metadata": {},
   "outputs": [],
   "source": [
    "income_cols += ['code_tract']"
   ]
  },
  {
   "cell_type": "code",
   "execution_count": null,
   "id": "51e7df31-744a-4624-b878-e5f554260518",
   "metadata": {},
   "outputs": [],
   "source": [
    "#set south american coordinate system\n",
    "iso_plot = iso_plot.to_crs(epsg=4674)"
   ]
  },
  {
   "cell_type": "code",
   "execution_count": null,
   "id": "8ca22ed2-a5f8-4130-b832-bdd4123dcd49",
   "metadata": {},
   "outputs": [],
   "source": [
    "overlay_iso_tract = gpd.overlay(iso_plot, tracts, how='intersection')"
   ]
  },
  {
   "cell_type": "code",
   "execution_count": null,
   "id": "2e4a0a39-2c62-4e30-84f2-076aa39bfeb1",
   "metadata": {},
   "outputs": [],
   "source": [
    "#get each intersection area between isolation hexagons and census tracts\n",
    "overlay_iso_tract = overlay_iso_tract.merge(iso_plot[['h3', 'geometry']], on='h3')"
   ]
  },
  {
   "cell_type": "code",
   "execution_count": null,
   "id": "84fca053-68db-40fa-89ac-5a934428aeb9",
   "metadata": {},
   "outputs": [],
   "source": [
    "#get proportion of isolation hexagon in each census tract-iso hexagon intersection area\n",
    "overlay_iso_tract['overlap_proportion'] = [x.area/y.area for x, y in zip(overlay_iso_tract['geometry_x'], overlay_iso_tract['geometry_y'])]"
   ]
  },
  {
   "cell_type": "code",
   "execution_count": null,
   "id": "d4cb8047-2e6b-4e45-bcac-fe8e3250d772",
   "metadata": {},
   "outputs": [],
   "source": [
    "#make code_tract as int for comparability\n",
    "overlay_iso_tract.code_tract = overlay_iso_tract.code_tract.astype(int)"
   ]
  },
  {
   "cell_type": "code",
   "execution_count": null,
   "id": "cf3ac3e1-b3c5-4c66-ad42-328720ae456b",
   "metadata": {},
   "outputs": [
    {
     "data": {
      "text/plain": [
       "['income_avg_head',\n",
       " 'income_total',\n",
       " 'income_0',\n",
       " 'income_1',\n",
       " 'income_2',\n",
       " 'code_tract']"
      ]
     },
     "metadata": {},
     "output_type": "display_data"
    }
   ],
   "source": [
    "income_cols"
   ]
  },
  {
   "cell_type": "code",
   "execution_count": null,
   "id": "38457383-c546-406a-8ad4-c31cac6be9b8",
   "metadata": {
    "tags": []
   },
   "outputs": [],
   "source": [
    "#merge intersection areas with the proportions of demographic information from each census group\n",
    "overlay_w_propor = overlay_iso_tract.merge(census_data[income_cols], how='left', on='code_tract' )"
   ]
  },
  {
   "cell_type": "code",
   "execution_count": null,
   "id": "6f76bcdb-3fdf-4b08-886d-5812a6f83f67",
   "metadata": {},
   "outputs": [],
   "source": [
    "#create weighted proportions for each h3 area's demographic info based on proportion of total area in given census tract\n",
    "for col in income_cols:\n",
    "    overlay_w_propor[f'weighted_{col}'] = overlay_w_propor[col] * overlay_w_propor['overlap_proportion']"
   ]
  },
  {
   "cell_type": "code",
   "execution_count": null,
   "id": "a0e568af-d452-46dd-a4e4-25d6bbe908b0",
   "metadata": {},
   "outputs": [],
   "source": [
    "#create columns of demographic proportion relative to total population in each census tract\n",
    "income_cols = []\n",
    "for col in overlay_w_propor.columns:\n",
    "    if col[:8] == 'weighted':\n",
    "        income_cols.append(col)\n",
    "        "
   ]
  },
  {
   "cell_type": "code",
   "execution_count": null,
   "id": "188d1378-8b0f-4d59-9db4-5cdbc611374c",
   "metadata": {},
   "outputs": [],
   "source": [
    "income_cols= income_cols[:-1]"
   ]
  },
  {
   "cell_type": "code",
   "execution_count": null,
   "id": "ebdc5c36-fe5c-4f12-a715-870f8af52575",
   "metadata": {},
   "outputs": [
    {
     "data": {
      "text/plain": [
       "['weighted_income_avg_head',\n",
       " 'weighted_income_total',\n",
       " 'weighted_income_0',\n",
       " 'weighted_income_1',\n",
       " 'weighted_income_2',\n",
       " 'weighted_code_tract']"
      ]
     },
     "metadata": {},
     "output_type": "display_data"
    }
   ],
   "source": [
    "income_cols"
   ]
  },
  {
   "cell_type": "code",
   "execution_count": null,
   "id": "3ad75119-5b1d-4a1b-b908-d5fdaa6f52e9",
   "metadata": {},
   "outputs": [],
   "source": [
    "overlay_w_propor = overlay_w_propor.iloc[:, :-1]"
   ]
  },
  {
   "cell_type": "code",
   "execution_count": null,
   "id": "35f611da-946d-4df2-b2c1-4a886d7f2855",
   "metadata": {},
   "outputs": [],
   "source": [
    "h3_income = overlay_w_propor.groupby('h3')[income_cols].sum()"
   ]
  },
  {
   "cell_type": "code",
   "execution_count": null,
   "id": "2987288d-67ba-4c0f-b6d7-3942dd507897",
   "metadata": {},
   "outputs": [
    {
     "data": {
      "text/html": [
       "<div>\n",
       "<style scoped>\n",
       "    .dataframe tbody tr th:only-of-type {\n",
       "        vertical-align: middle;\n",
       "    }\n",
       "\n",
       "    .dataframe tbody tr th {\n",
       "        vertical-align: top;\n",
       "    }\n",
       "\n",
       "    .dataframe thead th {\n",
       "        text-align: right;\n",
       "    }\n",
       "</style>\n",
       "<table border=\"1\" class=\"dataframe\">\n",
       "  <thead>\n",
       "    <tr style=\"text-align: right;\">\n",
       "      <th></th>\n",
       "      <th>weighted_income_avg_head</th>\n",
       "      <th>weighted_income_total</th>\n",
       "      <th>weighted_income_0</th>\n",
       "      <th>weighted_income_1</th>\n",
       "      <th>weighted_income_2</th>\n",
       "    </tr>\n",
       "    <tr>\n",
       "      <th>h3</th>\n",
       "      <th></th>\n",
       "      <th></th>\n",
       "      <th></th>\n",
       "      <th></th>\n",
       "      <th></th>\n",
       "    </tr>\n",
       "  </thead>\n",
       "  <tbody>\n",
       "    <tr>\n",
       "      <th>88a8100001fffff</th>\n",
       "      <td>1143.143445</td>\n",
       "      <td>219045.011075</td>\n",
       "      <td>7.212334</td>\n",
       "      <td>51.759904</td>\n",
       "      <td>148.251059</td>\n",
       "    </tr>\n",
       "    <tr>\n",
       "      <th>88a8100003fffff</th>\n",
       "      <td>928.374062</td>\n",
       "      <td>266227.034608</td>\n",
       "      <td>5.355643</td>\n",
       "      <td>76.529913</td>\n",
       "      <td>189.355202</td>\n",
       "    </tr>\n",
       "    <tr>\n",
       "      <th>88a8100005fffff</th>\n",
       "      <td>1004.591452</td>\n",
       "      <td>387886.510746</td>\n",
       "      <td>11.044067</td>\n",
       "      <td>94.836875</td>\n",
       "      <td>326.202259</td>\n",
       "    </tr>\n",
       "    <tr>\n",
       "      <th>88a8100007fffff</th>\n",
       "      <td>1160.208616</td>\n",
       "      <td>423527.487669</td>\n",
       "      <td>8.900752</td>\n",
       "      <td>90.437966</td>\n",
       "      <td>249.151094</td>\n",
       "    </tr>\n",
       "    <tr>\n",
       "      <th>88a8100009fffff</th>\n",
       "      <td>2069.354689</td>\n",
       "      <td>702143.748680</td>\n",
       "      <td>3.386166</td>\n",
       "      <td>68.824963</td>\n",
       "      <td>193.317424</td>\n",
       "    </tr>\n",
       "    <tr>\n",
       "      <th>...</th>\n",
       "      <td>...</td>\n",
       "      <td>...</td>\n",
       "      <td>...</td>\n",
       "      <td>...</td>\n",
       "      <td>...</td>\n",
       "    </tr>\n",
       "    <tr>\n",
       "      <th>88a812b4d7fffff</th>\n",
       "      <td>1115.374845</td>\n",
       "      <td>446098.731205</td>\n",
       "      <td>13.022348</td>\n",
       "      <td>117.310452</td>\n",
       "      <td>317.582862</td>\n",
       "    </tr>\n",
       "    <tr>\n",
       "      <th>88a812b4d9fffff</th>\n",
       "      <td>1486.043800</td>\n",
       "      <td>210526.126063</td>\n",
       "      <td>9.380995</td>\n",
       "      <td>45.194918</td>\n",
       "      <td>84.349785</td>\n",
       "    </tr>\n",
       "    <tr>\n",
       "      <th>88a812b4ddfffff</th>\n",
       "      <td>1513.275799</td>\n",
       "      <td>539765.072796</td>\n",
       "      <td>12.047683</td>\n",
       "      <td>89.093817</td>\n",
       "      <td>274.790064</td>\n",
       "    </tr>\n",
       "    <tr>\n",
       "      <th>88a812b6b5fffff</th>\n",
       "      <td>998.907446</td>\n",
       "      <td>318560.754692</td>\n",
       "      <td>25.278079</td>\n",
       "      <td>104.955868</td>\n",
       "      <td>260.965943</td>\n",
       "    </tr>\n",
       "    <tr>\n",
       "      <th>88a812b6e3fffff</th>\n",
       "      <td>1216.347401</td>\n",
       "      <td>180273.341049</td>\n",
       "      <td>15.289852</td>\n",
       "      <td>54.151630</td>\n",
       "      <td>129.386571</td>\n",
       "    </tr>\n",
       "  </tbody>\n",
       "</table>\n",
       "<p>2893 rows × 5 columns</p>\n",
       "</div>"
      ],
      "text/plain": [
       "                 weighted_income_avg_head  weighted_income_total  \\\n",
       "h3                                                                 \n",
       "88a8100001fffff               1143.143445          219045.011075   \n",
       "88a8100003fffff                928.374062          266227.034608   \n",
       "88a8100005fffff               1004.591452          387886.510746   \n",
       "88a8100007fffff               1160.208616          423527.487669   \n",
       "88a8100009fffff               2069.354689          702143.748680   \n",
       "...                                   ...                    ...   \n",
       "88a812b4d7fffff               1115.374845          446098.731205   \n",
       "88a812b4d9fffff               1486.043800          210526.126063   \n",
       "88a812b4ddfffff               1513.275799          539765.072796   \n",
       "88a812b6b5fffff                998.907446          318560.754692   \n",
       "88a812b6e3fffff               1216.347401          180273.341049   \n",
       "\n",
       "                 weighted_income_0  weighted_income_1  weighted_income_2  \n",
       "h3                                                                        \n",
       "88a8100001fffff           7.212334          51.759904         148.251059  \n",
       "88a8100003fffff           5.355643          76.529913         189.355202  \n",
       "88a8100005fffff          11.044067          94.836875         326.202259  \n",
       "88a8100007fffff           8.900752          90.437966         249.151094  \n",
       "88a8100009fffff           3.386166          68.824963         193.317424  \n",
       "...                            ...                ...                ...  \n",
       "88a812b4d7fffff          13.022348         117.310452         317.582862  \n",
       "88a812b4d9fffff           9.380995          45.194918          84.349785  \n",
       "88a812b4ddfffff          12.047683          89.093817         274.790064  \n",
       "88a812b6b5fffff          25.278079         104.955868         260.965943  \n",
       "88a812b6e3fffff          15.289852          54.151630         129.386571  \n",
       "\n",
       "[2893 rows x 5 columns]"
      ]
     },
     "metadata": {},
     "output_type": "display_data"
    }
   ],
   "source": [
    "h3_income"
   ]
  },
  {
   "cell_type": "code",
   "execution_count": null,
   "id": "3947436a-4eb8-47fd-a536-11a642a56c82",
   "metadata": {},
   "outputs": [],
   "source": [
    "h3_income.to_csv(data_path + 'estimates/h3_income.csv')"
   ]
  },
  {
   "cell_type": "code",
   "execution_count": null,
   "id": "7a259cf6-d361-4d1c-88fb-1282c633295e",
   "metadata": {},
   "outputs": [],
   "source": [
    "import h3\n",
    "import pandas as pd\n",
    "import geopandas as gpd\n",
    "import shapely\n",
    "import pandas as pd\n",
    "from shapely.geometry import MultiPolygon, Polygon, Point\n",
    "import numpy as np\n",
    "import contextily as ctx\n",
    "import matplotlib.pyplot as plt\n",
    "import geobr\n",
    "import pyreadr\n",
    "import matplotlib\n",
    "%matplotlib inline"
   ]
  },
  {
   "cell_type": "markdown",
   "id": "f1a0a72f-4769-4654-9d0c-52d569345ae7",
   "metadata": {},
   "source": [
    "### Get Commuting Flow Data"
   ]
  },
  {
   "cell_type": "code",
   "execution_count": null,
   "id": "b98f27f2-e4ec-4440-ac16-5a9e39821d00",
   "metadata": {
    "tags": []
   },
   "outputs": [],
   "source": [
    "commute = pd.read_csv('Data/data-raw/travel_survey/travel_matrix_spo2017.csv')\n",
    "labels= pd.read_excel('Data/zone_labels.xlsx', skiprows=3, header = 1)"
   ]
  },
  {
   "cell_type": "code",
   "execution_count": null,
   "id": "59ecd7e9-1111-4bb7-9829-e58d076a4086",
   "metadata": {
    "tags": []
   },
   "outputs": [],
   "source": [
    "#clean and merge dataframes\n",
    "labels = labels[2:]\n",
    "labels['Zona'] = labels[labels['Zona'] != 'nan']\n",
    "labels['Zona'] = labels[labels['Zona'] != 'N°']\n",
    "labels['Zona'] = labels[labels['Zona'] != 'Zona']\n",
    "labels['Zona'] = labels['Zona'].astype(float)\n",
    "labels.rename(columns={'Unnamed: 1': 'zona_nome', 'Unnamed: 3': 'municipio_nome', 'Unnamed: 5': 'distrito_nome'}, inplace=True)\n",
    "labels.drop('Unnamed: 7', axis=1, inplace=True)\n",
    "#commute = commute.merge(labels, left_on='ZONA_O', right_on='Zona')\n",
    "\n",
    "\n",
    "# remove missing values\n",
    "commute = commute[~commute['ZONA_O'].isnull()]\n",
    "commute = commute[~commute['ZONA_D'].isnull()]\n",
    "commute = commute[commute['ZONA_O'] != 'nan']\n",
    "commute = commute[commute['ZONA_D'] != 'nan']\n",
    "commute = commute[~commute['mean_time'].isnull()]"
   ]
  },
  {
   "cell_type": "code",
   "execution_count": null,
   "id": "29f6586a-476c-45b9-834a-2dd687680fcb",
   "metadata": {},
   "outputs": [],
   "source": [
    "commute_orig = commute_orig[['ZONA_O', 'pop_orig']]"
   ]
  },
  {
   "cell_type": "code",
   "execution_count": null,
   "id": "9b01df5e-de85-4993-95da-5a68dbc497ae",
   "metadata": {},
   "outputs": [],
   "source": [
    "commute_orig.dropna(inplace=True)"
   ]
  },
  {
   "cell_type": "code",
   "execution_count": null,
   "id": "4e0a5683-5de5-49c7-b3d9-8fe8c54fcf33",
   "metadata": {},
   "outputs": [],
   "source": [
    "commute_orig['ZONA_O'] = commute_orig['ZONA_O'].astype(int)"
   ]
  },
  {
   "cell_type": "code",
   "execution_count": null,
   "id": "63b159c6-5c97-4b6f-a0af-c67be8c35ed6",
   "metadata": {},
   "outputs": [],
   "source": [
    "commute_orig.drop_duplicates('ZONA_O', inplace=True)"
   ]
  },
  {
   "cell_type": "markdown",
   "id": "43807caa-1395-40df-af4a-dccebeefbf5d",
   "metadata": {},
   "source": [
    "### Estimate 2020 Population for Commuting Zones and Estimate H3 Population Based on Degree of Overlap"
   ]
  },
  {
   "cell_type": "markdown",
   "id": "2b670f2a-787b-4511-941b-f6bb68b4fab3",
   "metadata": {},
   "source": [
    "#### Rate of Population Growth in Sao Paulo"
   ]
  },
  {
   "cell_type": "code",
   "execution_count": null,
   "id": "0cecb36d-8b39-43ee-b264-a3310dbb6f2d",
   "metadata": {},
   "outputs": [],
   "source": [
    "commute = pd.read_csv('Data/data-raw/travel_survey/travel_matrix_spo2017.csv')"
   ]
  },
  {
   "cell_type": "code",
   "execution_count": null,
   "id": "ecacc8d9-1e85-465f-95b8-b96db82ca913",
   "metadata": {},
   "outputs": [],
   "source": [
    "pop_SP_2010 = 11253503\n",
    "pop_SP_2019 = 12252023"
   ]
  },
  {
   "cell_type": "code",
   "execution_count": null,
   "id": "53da369d-050e-4e2f-8a3f-81bc9df740c4",
   "metadata": {},
   "outputs": [
    {
     "name": "stdout",
     "output_type": "stream",
     "text": [
      "Yearly population growth rate in SP:\n",
      "1.009490 or 0.9490%\n"
     ]
    }
   ],
   "source": [
    "delta_t = 9\n",
    "yearly_rate = (pop_SP_2019/pop_SP_2010)**(1.0/delta_t)\n",
    "\n",
    "print('Yearly population growth rate in SP:\\n{:.6f} or {:2.4f}%'.format(yearly_rate, (yearly_rate-1)*100 ))"
   ]
  },
  {
   "cell_type": "code",
   "execution_count": null,
   "id": "24035b41-fc5a-4ea3-95bf-7d68d98ebf36",
   "metadata": {},
   "outputs": [
    {
     "name": "stdout",
     "output_type": "stream",
     "text": [
      "Estimated total SP population in 2020: 12368301\n"
     ]
    }
   ],
   "source": [
    "pop_SP_2020 = round(pop_SP_2010*(yearly_rate**10))\n",
    "\n",
    "print('Estimated total SP population in 2020:',pop_SP_2020)"
   ]
  },
  {
   "cell_type": "code",
   "execution_count": null,
   "id": "9987816e-c857-4192-8738-7eb5d9a2c0e8",
   "metadata": {},
   "outputs": [],
   "source": [
    "commute_orig['2020_pop'] = commute_orig['pop_orig'] * yearly_rate**3"
   ]
  },
  {
   "cell_type": "markdown",
   "id": "d545edf4",
   "metadata": {},
   "source": [
    "### Interpolate 2020-Scaled Commuting Region Populations"
   ]
  },
  {
   "cell_type": "code",
   "execution_count": null,
   "id": "157f17ca-e8be-4c82-8915-ea2fa8502939",
   "metadata": {},
   "outputs": [],
   "source": [
    "import fiona\n",
    "shape = fiona.open(\"Data/data-raw/travel_survey/Zonas_2017_region.shp\")\n",
    "# Build the GeoDataFrame from Fiona Collection\n",
    "commute_zones = gpd.GeoDataFrame.from_features([feature for feature in shape], crs = 29193)\n",
    "# Get the order of the fields in the Fiona Collection; add geometry to the end\n",
    "columns = list(shape.meta[\"schema\"][\"properties\"]) + [\"geometry\"]\n",
    "# Re-order columns in the correct order\n",
    "commute_zones = commute_zones[columns]"
   ]
  },
  {
   "cell_type": "code",
   "execution_count": null,
   "id": "90bf9cd9-9e69-494a-a940-7c3a237b0dce",
   "metadata": {},
   "outputs": [],
   "source": [
    "commute_zones.to_crs(crs=4674, inplace=True)\n",
    "iso_plot.to_crs(crs=4674, inplace=True)"
   ]
  },
  {
   "cell_type": "code",
   "execution_count": null,
   "id": "839a3f6d-6bc9-419c-993d-92648fe8dc8b",
   "metadata": {},
   "outputs": [],
   "source": [
    "#Get area of commuting zones\n",
    "commute_zones['zona_area'] = [x.area for x in commute_zones['geometry']]"
   ]
  },
  {
   "cell_type": "code",
   "execution_count": null,
   "id": "86130ec1-e9d2-4401-8e72-0d7f02258e4a",
   "metadata": {},
   "outputs": [],
   "source": [
    "#get intersections of isolation zones and commuting zones\n",
    "iso_commute = gpd.overlay(iso_plot, commute_zones )"
   ]
  },
  {
   "cell_type": "code",
   "execution_count": null,
   "id": "59b08350-2d1c-4b9e-8036-3fb2227abca7",
   "metadata": {},
   "outputs": [],
   "source": [
    "#get area of overlapping regions\n",
    "iso_commute['overlap_area'] = [x.area for x in iso_commute['geometry']]"
   ]
  },
  {
   "cell_type": "code",
   "execution_count": null,
   "id": "915c6a1a-50ab-4305-b744-92a470ea6f63",
   "metadata": {},
   "outputs": [],
   "source": [
    "\n",
    "iso_commute = iso_commute[['h3', 'NumeroZona', 'overlap_area', 'zona_area']]"
   ]
  },
  {
   "cell_type": "code",
   "execution_count": null,
   "id": "41ccb08e-0a74-4026-9a64-650f603df53a",
   "metadata": {},
   "outputs": [],
   "source": [
    "iso_commute = iso_commute.merge(commute_orig, left_on='NumeroZona', right_on='ZONA_O')"
   ]
  },
  {
   "cell_type": "code",
   "execution_count": null,
   "id": "86565f86-3238-4173-b971-d680b50ff884",
   "metadata": {},
   "outputs": [],
   "source": [
    "#get proportion of total commuting area covered by a given hexagon\n",
    "iso_commute['overlap_propor'] = iso_commute['overlap_area'] / iso_commute['zona_area']"
   ]
  },
  {
   "cell_type": "code",
   "execution_count": null,
   "id": "b33c2f47-3cfe-4be3-9b7b-354387b8b31f",
   "metadata": {},
   "outputs": [],
   "source": [
    "iso_commute['2020_pop_h3'] = iso_commute['overlap_propor'] * iso_commute['2020_pop'] "
   ]
  },
  {
   "cell_type": "code",
   "execution_count": null,
   "id": "415fca4a-7078-473e-b37b-930d06eeb309",
   "metadata": {},
   "outputs": [],
   "source": [
    "iso_commute = iso_commute[['h3', '2020_pop_h3']]"
   ]
  },
  {
   "cell_type": "code",
   "execution_count": null,
   "id": "65d46184-8309-449a-9b4a-70b048b9b28f",
   "metadata": {},
   "outputs": [],
   "source": [
    "iso_commute.to_csv('Data/estimates/h3_pop.csv')"
   ]
  },
  {
   "cell_type": "code",
   "execution_count": null,
   "id": "bdc59a28-8ee0-4dfe-9692-c3a45b81fa1d",
   "metadata": {},
   "outputs": [],
   "source": [
    "iso_commute.groupby('h3').sum().to_csv('Data/estimates/h3_pop.csv')"
   ]
  },
  {
   "cell_type": "code",
   "execution_count": null,
   "id": "280ba00e",
   "metadata": {},
   "outputs": [],
   "source": [
    "pop = pd.read_csv(data_path + 'h3/population/h3_pop.csv')\n"
   ]
  },
  {
   "cell_type": "markdown",
   "id": "cfbe0439",
   "metadata": {},
   "source": [
    "### Interpolate Commuting Flow Information to Social Isolation Hexagon Level"
   ]
  },
  {
   "cell_type": "code",
   "execution_count": 15,
   "id": "349ec763",
   "metadata": {
    "tags": []
   },
   "outputs": [],
   "source": [
    "commute = pd.read_csv(data_path + '/data-raw/travel_survey/travel_matrix_spo2017.csv')\n",
    "labels= pd.read_excel(data_path + '/zone_labels.xlsx', skiprows=3, header = 1)"
   ]
  },
  {
   "cell_type": "code",
   "execution_count": 16,
   "id": "f718761a",
   "metadata": {
    "tags": []
   },
   "outputs": [],
   "source": [
    "#clean and merge dataframes\n",
    "labels = labels[2:]\n",
    "labels['Zona'] = labels[labels['Zona'] != 'nan']\n",
    "labels['Zona'] = labels[labels['Zona'] != 'N°']\n",
    "labels['Zona'] = labels[labels['Zona'] != 'Zona']\n",
    "labels['Zona'] = labels['Zona'].astype(float)\n",
    "labels.rename(columns={'Unnamed: 1': 'zona_nome', 'Unnamed: 3': 'municipio_nome', 'Unnamed: 5': 'distrito_nome'}, inplace=True)\n",
    "labels.drop('Unnamed: 7', axis=1, inplace=True)\n",
    "#commute = commute.merge(labels, left_on='ZONA_O', right_on='Zona')\n",
    "\n",
    "\n",
    "# remove missing values\n",
    "commute = commute[~commute['ZONA_O'].isnull()]\n",
    "commute = commute[~commute['ZONA_D'].isnull()]\n",
    "commute = commute[commute['ZONA_O'] != 'nan']\n",
    "commute = commute[commute['ZONA_D'] != 'nan']\n",
    "commute = commute[~commute['mean_time'].isnull()]"
   ]
  },
  {
   "cell_type": "code",
   "execution_count": 17,
   "id": "29618042",
   "metadata": {},
   "outputs": [],
   "source": [
    "import fiona\n",
    "shape = fiona.open(data_path + \"/data-raw/travel_survey/Zonas_2017_region.shp\")"
   ]
  },
  {
   "cell_type": "code",
   "execution_count": 18,
   "id": "c015c2cb",
   "metadata": {},
   "outputs": [
    {
     "data": {
      "text/plain": [
       "<open Collection '/Users/shivyucel/Documents/Github.nosync/SDS_2020-2021/SDS_Thesis/Data//data-raw/travel_survey/Zonas_2017_region.shp:Zonas_2017_region', mode 'r' at 0x177448fa0>"
      ]
     },
     "execution_count": 18,
     "metadata": {},
     "output_type": "execute_result"
    }
   ],
   "source": [
    "shape"
   ]
  },
  {
   "cell_type": "code",
   "execution_count": 19,
   "id": "3f79ae84",
   "metadata": {},
   "outputs": [],
   "source": [
    "# Build the GeoDataFrame from Fiona Collection\n",
    "commute_zones = gpd.GeoDataFrame.from_features([feature for feature in shape], crs = 29193)\n",
    "# Get the order of the fields in the Fiona Collection; add geometry to the end\n",
    "columns = list(shape.meta[\"schema\"][\"properties\"]) + [\"geometry\"]\n",
    "# Re-order columns in the correct order\n",
    "commute_zones = commute_zones[columns]"
   ]
  },
  {
   "cell_type": "code",
   "execution_count": 314,
   "id": "9abe2cbe",
   "metadata": {},
   "outputs": [],
   "source": [
    "commute_zones.to_crs(crs=4674, inplace=True)\n",
    "iso_plot.to_crs(crs=4674, inplace=True)"
   ]
  },
  {
   "cell_type": "code",
   "execution_count": 315,
   "id": "e881c6e9",
   "metadata": {},
   "outputs": [],
   "source": [
    "commute_zones.to_file('Data/data-raw/travel_survey/commute_shapes.shp')"
   ]
  },
  {
   "cell_type": "code",
   "execution_count": 343,
   "id": "d48947eb",
   "metadata": {},
   "outputs": [],
   "source": [
    "commute_zones = gpd.read_file('Data/data-raw/travel_survey/Zonas_2017_region.shp')"
   ]
  },
  {
   "cell_type": "code",
   "execution_count": 344,
   "id": "31086001",
   "metadata": {},
   "outputs": [],
   "source": [
    "#Get area of commuting zones\n",
    "commute_zones['zona_area'] = [x.area for x in commute_zones['geometry']]"
   ]
  },
  {
   "cell_type": "code",
   "execution_count": 355,
   "id": "d4b0b828",
   "metadata": {},
   "outputs": [],
   "source": [
    "#get intersections of isolation zones and commuting zones\n",
    "iso_commute = gpd.overlay(iso_plot, commute_zones )"
   ]
  },
  {
   "cell_type": "code",
   "execution_count": 356,
   "id": "988c375a",
   "metadata": {},
   "outputs": [],
   "source": [
    "#get area of overlapping regions\n",
    "iso_commute['overlap_area'] = [x.area for x in iso_commute['geometry']]"
   ]
  },
  {
   "cell_type": "code",
   "execution_count": 358,
   "id": "ee187a83",
   "metadata": {},
   "outputs": [],
   "source": [
    "\n",
    "iso_commute = iso_commute[['h3', 'FID', 'overlap_area', 'zona_area']]"
   ]
  },
  {
   "cell_type": "code",
   "execution_count": 360,
   "id": "c705898d",
   "metadata": {},
   "outputs": [
    {
     "name": "stderr",
     "output_type": "stream",
     "text": [
      "<ipython-input-360-90172f017599>:1: SettingWithCopyWarning: \n",
      "A value is trying to be set on a copy of a slice from a DataFrame.\n",
      "Try using .loc[row_indexer,col_indexer] = value instead\n",
      "\n",
      "See the caveats in the documentation: https://pandas.pydata.org/pandas-docs/stable/user_guide/indexing.html#returning-a-view-versus-a-copy\n",
      "  iso_commute['propor_overlap'] = iso_commute['overlap_area'] / iso_commute['zona_area']\n"
     ]
    }
   ],
   "source": [
    "#get proportion of total commuting area covered by a given hexagon\n",
    "iso_commute['propor_overlap'] = iso_commute['overlap_area'] / iso_commute['zona_area']"
   ]
  },
  {
   "cell_type": "code",
   "execution_count": null,
   "id": "8e5ddc0b",
   "metadata": {},
   "outputs": [],
   "source": [
    "#create dataframe to hold h3-commuting zone proportions\n",
    "overlap_extent_matrix = pd.DataFrame(index=iso_plot['h3'], columns=commute_zones['NumeroZona'])"
   ]
  },
  {
   "cell_type": "code",
   "execution_count": 370,
   "id": "5176d5e8",
   "metadata": {},
   "outputs": [],
   "source": [
    "#fill in dataframe with proportions\n",
    "for index, row in iso_commute.iterrows():\n",
    "    overlap_extent_matrix.loc[row['h3'], row['FID']] = row['propor_overlap']"
   ]
  },
  {
   "cell_type": "code",
   "execution_count": 378,
   "id": "e00c4bf9",
   "metadata": {},
   "outputs": [],
   "source": [
    "overlap_extent_matrix.replace(to_replace=np.nan, value=0, inplace=True)"
   ]
  },
  {
   "cell_type": "code",
   "execution_count": 398,
   "id": "a8242386",
   "metadata": {},
   "outputs": [],
   "source": [
    "overlap_extent_matrix = overlap_extent_matrix.transpose()"
   ]
  },
  {
   "cell_type": "code",
   "execution_count": 400,
   "id": "9b5387f6",
   "metadata": {},
   "outputs": [],
   "source": [
    "overlap_extent_matrix.to_csv('Data/data-raw/travel_survey/overlap_extent.csv')"
   ]
  },
  {
   "cell_type": "code",
   "execution_count": 669,
   "id": "40a21b6a",
   "metadata": {},
   "outputs": [],
   "source": [
    "#get commuting origins as strings\n",
    "commute['ZONA_O'] = commute['ZONA_O'].astype(str)"
   ]
  },
  {
   "cell_type": "code",
   "execution_count": 670,
   "id": "dea4d8fc",
   "metadata": {},
   "outputs": [],
   "source": [
    "#get overlap extent index as string\n",
    "overlap_extent_matrix.index = overlap_extent_matrix.index.astype(str)"
   ]
  },
  {
   "cell_type": "code",
   "execution_count": 671,
   "id": "72b7e92d",
   "metadata": {},
   "outputs": [],
   "source": [
    "#create column to hold original commuting origin zone\n",
    "commute['ZONA_O_orig'] = commute['ZONA_O']"
   ]
  },
  {
   "cell_type": "code",
   "execution_count": 675,
   "id": "8f112ccc",
   "metadata": {},
   "outputs": [],
   "source": [
    "overlap_extent_matrix.set_index('NumeroZona', inplace=True)"
   ]
  },
  {
   "cell_type": "code",
   "execution_count": 677,
   "id": "086fb685",
   "metadata": {
    "tags": []
   },
   "outputs": [],
   "source": [
    "#replace origin commuting zone with all h3 zones which cover some proportion of the origin commuting zone\n",
    "for zone in commute['ZONA_O'].unique():\n",
    "    val = [col for col in overlap_extent_matrix.columns if overlap_extent_matrix.loc[zone, col] != 0]\n",
    "    commute['ZONA_O'].replace(to_replace=zone, value= str(val), inplace=True)    "
   ]
  },
  {
   "cell_type": "code",
   "execution_count": 678,
   "id": "b8f7c88e",
   "metadata": {},
   "outputs": [],
   "source": [
    "commute['ZONA_O'] = [ast.literal_eval(x) for x in commute['ZONA_O']]"
   ]
  },
  {
   "cell_type": "code",
   "execution_count": 679,
   "id": "bc3c24af",
   "metadata": {},
   "outputs": [],
   "source": [
    "commute = commute.explode('ZONA_O')"
   ]
  },
  {
   "cell_type": "code",
   "execution_count": 680,
   "id": "d0dc2c43",
   "metadata": {},
   "outputs": [],
   "source": [
    "commute.reset_index(inplace=True, drop=True)"
   ]
  },
  {
   "cell_type": "code",
   "execution_count": 682,
   "id": "ee8a46ef",
   "metadata": {},
   "outputs": [],
   "source": [
    "overlap_extent_matrix.reset_index(inplace=True)"
   ]
  },
  {
   "cell_type": "code",
   "execution_count": 683,
   "id": "56abdd41",
   "metadata": {},
   "outputs": [],
   "source": [
    "pivoted = overlap_extent_matrix.melt(id_vars='NumeroZona')"
   ]
  },
  {
   "cell_type": "code",
   "execution_count": 685,
   "id": "e998bff7",
   "metadata": {},
   "outputs": [],
   "source": [
    "#merge proportion of origin commuting zone covered by each overlapping h3\n",
    "commute = commute.merge(pivoted, left_on=['ZONA_O_orig', 'ZONA_O'], right_on=['NumeroZona', 'h3'])"
   ]
  },
  {
   "cell_type": "code",
   "execution_count": 694,
   "id": "9ba380ef",
   "metadata": {},
   "outputs": [],
   "source": [
    "commute.rename(columns={'value': 'O_propor'}, inplace=True)"
   ]
  },
  {
   "cell_type": "code",
   "execution_count": 695,
   "id": "b62a1f71",
   "metadata": {},
   "outputs": [],
   "source": [
    "#multiply count of people from two commuting zones by the proportion of the origin commuting zone covered by the h3 \n",
    "#gives estimate h3 --> commuting zone\n",
    "commute['weighted_count'] = commute['O_propor'] * commute['count']"
   ]
  },
  {
   "cell_type": "code",
   "execution_count": 697,
   "id": "fc6f7ac4",
   "metadata": {},
   "outputs": [],
   "source": [
    "commute['ZONA_D'] = commute['ZONA_D'].astype(str)"
   ]
  },
  {
   "cell_type": "code",
   "execution_count": 621,
   "id": "e7539ae3",
   "metadata": {},
   "outputs": [],
   "source": [
    "overlap_extent_matrix.index = overlap_extent_matrix.index.astype(str)"
   ]
  },
  {
   "cell_type": "code",
   "execution_count": 698,
   "id": "36d040c9",
   "metadata": {},
   "outputs": [],
   "source": [
    "commute['ZONA_D_orig'] = commute['ZONA_D']"
   ]
  },
  {
   "cell_type": "code",
   "execution_count": 700,
   "id": "2500d3cb",
   "metadata": {},
   "outputs": [],
   "source": [
    "overlap_extent_matrix.set_index('NumeroZona', inplace=True)"
   ]
  },
  {
   "cell_type": "code",
   "execution_count": 701,
   "id": "2f46cde3",
   "metadata": {},
   "outputs": [],
   "source": [
    "#get destination h3 zones which cover the commuting zone destinations\n",
    "for zone in commute['ZONA_D'].unique():\n",
    "    val = [col for col in overlap_extent_matrix.columns if overlap_extent_matrix.loc[zone, col] != 0]\n",
    "    commute['ZONA_D'].replace(to_replace=zone, value= str(val), inplace=True)    "
   ]
  },
  {
   "cell_type": "code",
   "execution_count": 702,
   "id": "81ced79e",
   "metadata": {},
   "outputs": [],
   "source": [
    "commute['ZONA_D'] = [ast.literal_eval(x) for x in commute['ZONA_D']]"
   ]
  },
  {
   "cell_type": "code",
   "execution_count": 703,
   "id": "6b8cc356",
   "metadata": {},
   "outputs": [],
   "source": [
    "commute = commute.explode('ZONA_D')"
   ]
  },
  {
   "cell_type": "code",
   "execution_count": 705,
   "id": "75ce4b13",
   "metadata": {},
   "outputs": [],
   "source": [
    "commute.reset_index(inplace=True, drop=True)"
   ]
  },
  {
   "cell_type": "code",
   "execution_count": 709,
   "id": "0d2e0cb7",
   "metadata": {},
   "outputs": [],
   "source": [
    "#get proportions of commuting destination zones covered by the intersecting h3 zones\n",
    "commute = commute.merge(pivoted, left_on=['ZONA_D_orig', 'ZONA_D'], right_on=['NumeroZona', 'h3'])"
   ]
  },
  {
   "cell_type": "code",
   "execution_count": 710,
   "id": "b32a475b",
   "metadata": {},
   "outputs": [],
   "source": [
    "#multiply 'h3' origin --> 'commuting zone' destination count by the proportion of destination commuting zone covered by h3\n",
    "# get h3 --> h3 estimate\n",
    "commute['final_count'] = commute['weighted_count'] * commute['value']"
   ]
  },
  {
   "cell_type": "code",
   "execution_count": 715,
   "id": "5f38d7d4",
   "metadata": {},
   "outputs": [],
   "source": [
    "commute.to_csv('Data/data-raw/travel_survey/h3_commute.csv')"
   ]
  },
  {
   "cell_type": "markdown",
   "id": "a20ef2ee",
   "metadata": {},
   "source": [
    "#### Create Clean OD Matrix of Hexagon Commuting"
   ]
  },
  {
   "cell_type": "code",
   "execution_count": null,
   "id": "0e54524b",
   "metadata": {},
   "outputs": [],
   "source": [
    "h3_ids = pd.read_csv('/Users/shivyucel/Documents/SDS_2021.nosync/SDS_2020-2021/SDS_Thesis/Data/h3/h3_IDs.csv')\n",
    "\n",
    "df = pd.read_csv(data_path + 'data-raw/travel_survey/h3_commute.csv')\n",
    "\n",
    "df = df[['ZONA_O', 'ZONA_D', 'final_count']]\n",
    "\n",
    "df = df.merge(h3_ids, left_on='ZONA_O', right_on='Unnamed: 0')\n",
    "\n",
    "df = df.merge(h3_ids, left_on='ZONA_D', right_on='Unnamed: 0')\n",
    "\n",
    "df = df.rename(columns={'0_x': 'SOURCE', '0_y': 'TARGET', 'final_count': 'FLUX'})[['SOURCE', 'TARGET', 'FLUX']]\n",
    "\n",
    "df1 = pd.DataFrame(df.groupby(['SOURCE', 'TARGET'])['FLUX'].agg(sum))\n",
    "df1.reset_index(inplace=True)\n",
    "\n",
    "#df1.to_csv(data_path + 'h3/paper_clean_commute.csv')"
   ]
  }
 ],
 "metadata": {
  "interpreter": {
   "hash": "3000151dad639a5b884f482d55293518d422e78d7667ef7f9f66f3633cb45ad0"
  },
  "kernelspec": {
   "display_name": "Python 3",
   "language": "python",
   "name": "python3"
  },
  "language_info": {
   "codemirror_mode": {
    "name": "ipython",
    "version": 3
   },
   "file_extension": ".py",
   "mimetype": "text/x-python",
   "name": "python",
   "nbconvert_exporter": "python",
   "pygments_lexer": "ipython3",
   "version": "3.9.4"
  }
 },
 "nbformat": 4,
 "nbformat_minor": 5
}
