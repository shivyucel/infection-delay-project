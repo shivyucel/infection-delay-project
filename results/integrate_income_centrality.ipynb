{
 "cells": [
  {
   "cell_type": "code",
   "execution_count": 6,
   "id": "7b5c30c9-b6a9-4dc0-a820-87bacb90d4da",
   "metadata": {},
   "outputs": [],
   "source": [
    "import pandas as pd\n",
    "import numpy as np"
   ]
  },
  {
   "cell_type": "code",
   "execution_count": 2,
   "id": "6fa0118d-941c-406e-ac6d-30b183180767",
   "metadata": {},
   "outputs": [],
   "source": [
    "data_path = ''"
   ]
  },
  {
   "cell_type": "markdown",
   "id": "c348350e-0a73-449f-9b9e-58901f018bb6",
   "metadata": {},
   "source": [
    "## Load in Hexagon ID Info\n",
    "hex_IDs.csv is a simple numerical index for the unique hexagon values (1-2599) associated with the ID number and code"
   ]
  },
  {
   "cell_type": "code",
   "execution_count": 198,
   "id": "73c6b479-8423-4fbc-a942-5d2187235214",
   "metadata": {},
   "outputs": [],
   "source": [
    "hex_ids = pd.read_csv('h3_IDs.csv')"
   ]
  },
  {
   "cell_type": "code",
   "execution_count": 199,
   "id": "d9a3c03a-42aa-4b8e-acb2-d53e1c8a8efa",
   "metadata": {},
   "outputs": [],
   "source": [
    "zones = np.array(commuting['SOURCE'].unique())"
   ]
  },
  {
   "cell_type": "markdown",
   "id": "f31c3595-0a97-42da-b398-28a5a3ab2fc2",
   "metadata": {},
   "source": [
    "## Load in Population, Income, and In-Degree"
   ]
  },
  {
   "cell_type": "code",
   "execution_count": 7,
   "id": "bcbdcc5c-3a67-47ed-82c1-0db107f1304c",
   "metadata": {},
   "outputs": [],
   "source": [
    "populations = np.loadtxt(data_path + 'population/new_h3_pop.csv', delimiter =',')"
   ]
  },
  {
   "cell_type": "code",
   "execution_count": 202,
   "id": "011f1601-3601-400f-bb61-1eda14923f50",
   "metadata": {},
   "outputs": [],
   "source": [
    "income = pd.read_csv(data_path + '/demographics/h3_income.csv')\n",
    "income = income[['h3', 'weighted_income_avg_head']]\n",
    "income.rename(columns={'h3': 'h3_id', 'weighted_income_avg_head':'income'}, inplace=True)"
   ]
  },
  {
   "cell_type": "code",
   "execution_count": 203,
   "id": "6a5e2d41-35f8-425a-aca1-4fa6d54636db",
   "metadata": {},
   "outputs": [],
   "source": [
    "commuting = pd.DataFrame(np.loadtxt(data_path + f\"/commuting/real_commuting_for_ED.csv\", delimiter=\",\"))\n",
    "commuting.rename(columns={0: 'SOURCE', 1: 'TARGET', 2:'FLUX'}, inplace=True)\n",
    "commuting.drop_duplicates(['SOURCE', 'TARGET'], inplace=True)"
   ]
  },
  {
   "cell_type": "code",
   "execution_count": 204,
   "id": "356db661-62ff-4450-8f89-244ef8218427",
   "metadata": {},
   "outputs": [],
   "source": [
    "in_degree = pd.DataFrame(commuting.groupby('TARGET').count()).reset_index()\n",
    "in_degree = in_degree[['TARGET', 'FLUX']]\n",
    "in_degree = in_degree.merge(hex_ids, left_on='TARGET', right_on='0')\n",
    "in_degree.rename(columns = {'Unnamed: 0': 'h3_id', 'FLUX': 'in_degree', 'TARGET': 'numeric_id'}, inplace=True)\n",
    "in_degree = in_degree.iloc[:, :3]"
   ]
  },
  {
   "cell_type": "markdown",
   "id": "5fc1ae53-da77-4d9b-801a-ea814f05e965",
   "metadata": {},
   "source": [
    "## Load in Weighted Infection Delays"
   ]
  },
  {
   "cell_type": "code",
   "execution_count": 205,
   "id": "12035fa6-0f2c-487b-8fbf-b47b44954d03",
   "metadata": {
    "tags": []
   },
   "outputs": [],
   "source": [
    "weighted_ID = pd.read_csv('/Users/shivyucel/Documents/SDS_2021.nosync/SDS_2020-2021/SDS_Thesis/Data/paper_data/weighted_infection_delay.csv')\n",
    "weighted_ID.drop('Unnamed: 0', axis=1 ,inplace=True)\n",
    "weighted_ID.columns = weighted_ID.columns.astype(int)\n",
    "weighted_ID.columns = zones[weighted_ID.columns]\n",
    "weighted_ID_hex = pd.DataFrame(weighted_ID.columns).merge(hex_ids, left_on=0, right_on='0').rename(columns={'Unnamed: 0': 'hexids'})\n",
    "weighted_ID.columns = weighted_ID_hex.hexids"
   ]
  },
  {
   "cell_type": "markdown",
   "id": "52b373af-e35d-4ba3-bcdd-6cdfe3541400",
   "metadata": {},
   "source": [
    "## Create Files with All Info"
   ]
  },
  {
   "cell_type": "code",
   "execution_count": 208,
   "id": "e283dcdb-db20-4b45-aacc-7a22a51e6f88",
   "metadata": {},
   "outputs": [],
   "source": [
    "merged = income.merge(in_degree, on='h3_id')\n",
    "median_ID = pd.DataFrame(weighted_ID[:10].median()).reset_index()\n",
    "median_ID.rename(columns = {0: 'weighted_ID'}, inplace=True)"
   ]
  },
  {
   "cell_type": "code",
   "execution_count": 209,
   "id": "443c1e42-e99c-4cda-8e18-c6ed81315141",
   "metadata": {},
   "outputs": [],
   "source": [
    "master = merged.merge(median_ID, left_on='h3_id', right_on='hexids')[['h3_id', 'income', 'in_degree', 'numeric_id', 'weighted_ID']]\n",
    "master['income_quartile'] = pd.qcut(master['income'], q=4, labels=[1, 2, 3, 4])\n",
    "master['in_degree_quartile'] = pd.qcut(master['in_degree'], q=4, labels=[1, 2, 3, 4])\n",
    "master.sort_values(by='numeric_id', inplace=True)\n",
    "master['pop'] = populations"
   ]
  },
  {
   "cell_type": "code",
   "execution_count": 221,
   "id": "328a3689-d755-4dfc-82ad-15e0f0f440c0",
   "metadata": {},
   "outputs": [],
   "source": [
    "master.to_csv('/Users/shivyucel/Documents/SDS_2021.nosync/SDS_2020-2021/SDS_Thesis/Data/paper_data/weighted_hexagon_data.csv')"
   ]
  },
  {
   "cell_type": "markdown",
   "id": "97d5a0c9-4b9b-4f53-991c-9896487d5b10",
   "metadata": {},
   "source": [
    "## Outbreak Splitting Infection Delay"
   ]
  },
  {
   "cell_type": "code",
   "execution_count": 69,
   "id": "865928d7-7478-4e41-aff5-b1a47f63ccc0",
   "metadata": {},
   "outputs": [],
   "source": [
    "grouped_low = pd.read_csv('/Users/shivyucel/Documents/SDS_2021.nosync/SDS_2020-2021/SDS_Thesis/Data/paper_data/v2_grouped_low.csv')\n",
    "grouped_high = pd.read_csv('/Users/shivyucel/Documents/SDS_2021.nosync/SDS_2020-2021/SDS_Thesis/Data/paper_data/v2_grouped_high.csv')"
   ]
  },
  {
   "cell_type": "code",
   "execution_count": 70,
   "id": "6dfd1a9d-671d-43f9-8fdc-7b0bfb0b01e2",
   "metadata": {},
   "outputs": [],
   "source": [
    "grouped_low.drop('Unnamed: 0', axis=1 ,inplace=True)\n",
    "grouped_high.drop('Unnamed: 0', axis=1 ,inplace=True)"
   ]
  },
  {
   "cell_type": "code",
   "execution_count": 72,
   "id": "fe4153b2-64e3-4198-99c9-e8f2fb66c8ab",
   "metadata": {},
   "outputs": [],
   "source": [
    "low_delays = pd.DataFrame(grouped_low.iloc[:10, ].median())\n",
    "high_delays = pd.DataFrame(grouped_high.iloc[:10, ].median())"
   ]
  },
  {
   "cell_type": "code",
   "execution_count": 73,
   "id": "d5932db0-c947-40b3-a7aa-9e3801eeec35",
   "metadata": {},
   "outputs": [],
   "source": [
    "low_delays = low_delays.rename(columns={0:'low_ID'})\n",
    "high_delays = high_delays.rename(columns={0:'high_ID'})\n",
    "\n",
    "low_delays.reset_index(inplace=True)\n",
    "high_delays.reset_index(inplace=True)\n",
    "\n",
    "low_delays['index'] = low_delays['index'].astype(float)\n",
    "high_delays['index'] = high_delays['index'].astype(float)\n",
    "\n",
    "low_delays = low_delays.merge(master, left_on='index', right_on='numeric_id')\n",
    "high_delays = high_delays.merge(master, left_on='index', right_on='numeric_id')\n",
    "low_delays['income_bin'] = pd.qcut(low_delays['income'], q=4, labels=[1, 2, 3, 4])\n",
    "high_delays['income_bin'] = pd.qcut(high_delays['income'], q=4, labels=[1, 2, 3, 4])"
   ]
  },
  {
   "cell_type": "code",
   "execution_count": 84,
   "id": "238a60c4-3dbb-4e44-9c05-7eb7b696116f",
   "metadata": {},
   "outputs": [],
   "source": [
    "low_delays['centrality_bin'] = pd.qcut(low_delays['in_degree'], q=4, labels=[1, 2, 3, 4])\n",
    "high_delays['centrality_bin'] = pd.qcut(high_delays['in_degree'], q=4, labels=[1, 2, 3, 4])\n",
    "\n",
    "low_delays['outbreak_centrality'] = 'Low Outbreak Centrality'\n",
    "high_delays['outbreak_centrality'] = 'High Outbreak Centrality'"
   ]
  },
  {
   "cell_type": "code",
   "execution_count": 85,
   "id": "032d5244-dbbc-40b7-99da-44317b1c97a9",
   "metadata": {},
   "outputs": [],
   "source": [
    "low_delays.rename(columns={'low_ID': 'infection_delay'}, inplace=True)\n",
    "high_delays.rename(columns={'high_ID': 'infection_delay'}, inplace=True)"
   ]
  },
  {
   "cell_type": "code",
   "execution_count": 86,
   "id": "b67edea8-8ed3-4a58-9e21-bd0da0945e91",
   "metadata": {},
   "outputs": [],
   "source": [
    "final = low_delays.append(high_delays)\n",
    "final.to_csv('/Users/shivyucel/Documents/SDS_2021.nosync/SDS_2020-2021/SDS_Thesis/Data/paper_data/longform_outbreak_split_delays.csv')"
   ]
  }
 ],
 "metadata": {
  "kernelspec": {
   "display_name": "Python 3",
   "language": "python",
   "name": "python3"
  },
  "language_info": {
   "codemirror_mode": {
    "name": "ipython",
    "version": 3
   },
   "file_extension": ".py",
   "mimetype": "text/x-python",
   "name": "python",
   "nbconvert_exporter": "python",
   "pygments_lexer": "ipython3",
   "version": "3.9.4"
  }
 },
 "nbformat": 4,
 "nbformat_minor": 5
}
