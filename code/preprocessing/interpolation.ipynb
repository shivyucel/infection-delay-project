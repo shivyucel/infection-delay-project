{
 "cells": [
  {
   "cell_type": "code",
   "execution_count": 1,
   "id": "14826486",
   "metadata": {},
   "outputs": [],
   "source": [
    "import h3\n",
    "import pandas as pd\n",
    "import geopandas as gpd\n",
    "import shapely\n",
    "import pandas as pd\n",
    "from shapely.geometry import MultiPolygon, Polygon, Point\n",
    "import numpy as np\n",
    "import contextily as ctx\n",
    "import matplotlib.pyplot as plt\n",
    "import geobr\n",
    "import pyreadr\n",
    "import matplotlib\n",
    "%matplotlib inline"
   ]
  },
  {
   "cell_type": "markdown",
   "id": "1e2a8ba7",
   "metadata": {},
   "source": [
    "# Goal of this analysis\n",
    "1. Load in social isolation (cell-phone mobility data), census demographic data, commuting survey data, and COVID-19 case data\n",
    "2. Create exploratory visuals to understand distribution of regions within Sao Paulo\n",
    "3. Spatial analysis to interpolate demographic, commuting, and COVID-19 data to the isolation hexagons for transferrable analysis"
   ]
  },
  {
   "cell_type": "code",
   "execution_count": 2,
   "id": "3f132368",
   "metadata": {},
   "outputs": [],
   "source": [
    "data_path = ''"
   ]
  },
  {
   "cell_type": "markdown",
   "id": "72001907",
   "metadata": {},
   "source": [
    "### Load in Isolation Data\n",
    "* Each isolation hexagon represents the proportion of individuals who live in a hexagon, who stay in a given day\n",
    "    * The data is from a Brazilian mobile phone analytics company"
   ]
  },
  {
   "cell_type": "code",
   "execution_count": 3,
   "id": "dffd347e",
   "metadata": {},
   "outputs": [],
   "source": [
    "iso= pd.read_csv(data_path + 'isolation_sp_h3_Mar-Sep2020.csv')\n",
    "\n",
    "#get hexageon geometries from h3 package\n",
    "iso['coords'] = [Polygon(h3.h3_to_geo_boundary(x, True)) for x in iso['h3']]\n",
    "iso = gpd.GeoDataFrame(iso, geometry='coords', crs= {\"init\": \"epsg:4326\"})\n",
    "iso.to_file('isolation.shp')\n",
    "iso = gpd.read_file(data_path + 'isolation.shp')\n",
    "\n"
   ]
  },
  {
   "cell_type": "code",
   "execution_count": 5,
   "id": "2cbe96cc",
   "metadata": {},
   "outputs": [],
   "source": [
    "#convert dates to datetime\n",
    "iso['dt'] = pd.to_datetime(iso['dt'])"
   ]
  },
  {
   "cell_type": "code",
   "execution_count": 6,
   "id": "d4a5a1c7",
   "metadata": {},
   "outputs": [
    {
     "name": "stdout",
     "output_type": "stream",
     "text": [
      "Earliest Date of Isolation Data: 2020-03-01 00:00:00\n",
      "Latest Date of Isolation Data: 2020-09-27 00:00:00\n"
     ]
    }
   ],
   "source": [
    "#get earliest and latest day\n",
    "print(f\"Earliest Date of Isolation Data: {iso['dt'].min()}\")\n",
    "print(f\"Latest Date of Isolation Data: {iso['dt'].max()}\")"
   ]
  },
  {
   "cell_type": "code",
   "execution_count": 10,
   "id": "d4fa5e5c",
   "metadata": {},
   "outputs": [],
   "source": [
    "iso_plot = iso.drop_duplicates('h3')"
   ]
  },
  {
   "cell_type": "code",
   "execution_count": 1,
   "id": "429b934b",
   "metadata": {},
   "outputs": [
    {
     "ename": "NameError",
     "evalue": "name 'iso_plot' is not defined",
     "output_type": "error",
     "traceback": [
      "\u001b[0;31m---------------------------------------------------------------------------\u001b[0m",
      "\u001b[0;31mNameError\u001b[0m                                 Traceback (most recent call last)",
      "\u001b[0;32m<ipython-input-1-038242e04c47>\u001b[0m in \u001b[0;36m<module>\u001b[0;34m\u001b[0m\n\u001b[0;32m----> 1\u001b[0;31m \u001b[0miso_plot\u001b[0m\u001b[0;34m.\u001b[0m\u001b[0mreset_index\u001b[0m\u001b[0;34m(\u001b[0m\u001b[0minplace\u001b[0m\u001b[0;34m=\u001b[0m\u001b[0;32mTrue\u001b[0m\u001b[0;34m)\u001b[0m\u001b[0;34m\u001b[0m\u001b[0;34m\u001b[0m\u001b[0m\n\u001b[0m",
      "\u001b[0;31mNameError\u001b[0m: name 'iso_plot' is not defined"
     ]
    }
   ],
   "source": [
    "iso_plot.reset_index(inplace=True)\n",
    "iso_plot.to_csv('h3_ids.csv')"
   ]
  },
  {
   "cell_type": "code",
   "execution_count": 13,
   "id": "dcf048dd",
   "metadata": {
    "tags": []
   },
   "outputs": [
    {
     "name": "stderr",
     "output_type": "stream",
     "text": [
      "/Users/shivyucel/anaconda3/envs/geo_env/lib/python3.9/site-packages/pyproj/crs/crs.py:131: FutureWarning: '+init=<authority>:<code>' syntax is deprecated. '<authority>:<code>' is the preferred initialization method. When making the change, be mindful of axis order changes: https://pyproj4.github.io/pyproj/stable/gotchas.html#axis-order-changes-in-proj-6\n",
      "  in_crs_string = _prepare_from_proj_string(in_crs_string)\n"
     ]
    }
   ],
   "source": [
    "iso_plot = gpd.GeoDataFrame(iso_plot, geometry='coords', crs= {\"init\": \"epsg:4326\"})"
   ]
  },
  {
   "cell_type": "markdown",
   "id": "e399ec56",
   "metadata": {},
   "source": [
    "### Sao Paulo Census Tract Shapefile"
   ]
  },
  {
   "cell_type": "markdown",
   "id": "6fcb548b",
   "metadata": {},
   "source": [
    "Get tract data from geobr package and save as shp"
   ]
  },
  {
   "cell_type": "code",
   "execution_count": 48,
   "id": "71c35fb4",
   "metadata": {
    "tags": []
   },
   "outputs": [
    {
     "name": "stderr",
     "output_type": "stream",
     "text": [
      "<ipython-input-48-7e00167f4285>:2: UserWarning: Column names longer than 10 characters will be truncated when saved to ESRI Shapefile.\n",
      "  tracts.to_file(data_path + 'data-raw/cleaned/census_shp.shp')\n"
     ]
    }
   ],
   "source": [
    "\n",
    "#get census tracts from geobr\n",
    "tracts = geobr.read_census_tract(code_tract=\"SP\", year=2010, simplified=False)\n",
    "tracts.to_file(data_path + 'data-raw/cleaned/census_shp.shp')\n",
    "\n",
    "#read in tract data\n",
    "tracts = gpd.read_file(data_path + '/data-raw/cleaned/census_shp.shp')\n",
    "\n",
    "iso_plot = iso_plot.to_crs(epsg=4674)\n",
    "\n",
    "merged = gpd.sjoin(tracts, iso_plot, how='inner', op='intersects')\n",
    "\n",
    "# Number of Census Tract Zones That Intersect with Mobility Index\n",
    "len(merged['code_tract'].unique())"
   ]
  },
  {
   "cell_type": "markdown",
   "id": "bcc58918",
   "metadata": {},
   "source": [
    "# Interpolation"
   ]
  },
  {
   "cell_type": "markdown",
   "id": "e6d245bf",
   "metadata": {},
   "source": [
    "## Method:  Demographic Info (Race, Income, etc)"
   ]
  },
  {
   "cell_type": "markdown",
   "id": "cd17fde1",
   "metadata": {},
   "source": [
    "To compute demographic information for each hexagon from the census tract data, the first step is to determine the proportions of demographic characteristics in the census zone, by dividing by the total population (ex. income). Subsequently, the geographic proportion of each h3 hexagon covered by each census region is determined."
   ]
  },
  {
   "cell_type": "code",
   "execution_count": 47,
   "id": "64b8fe19",
   "metadata": {},
   "outputs": [],
   "source": [
    "census_data = pd.read_csv(data_path + 'data-raw/census_tracts/census_tracts2010_sp.csv')"
   ]
  },
  {
   "cell_type": "code",
   "execution_count": 48,
   "id": "65d1c1be",
   "metadata": {},
   "outputs": [],
   "source": [
    "census_data.rename(columns={'pop_branca': 'pop_white', 'pop_preta': 'pop_black', \n",
    "                           'pop_amarela': 'pop_yellow', 'pop_parda': 'pop_brown', \n",
    "                           'pop_indigena': 'pop_indigenous'}, inplace=True)"
   ]
  },
  {
   "cell_type": "markdown",
   "id": "da806b03",
   "metadata": {},
   "source": [
    "## Income"
   ]
  },
  {
   "cell_type": "code",
   "execution_count": null,
   "id": "bd039037-0781-4675-956d-af5622e43e4e",
   "metadata": {},
   "outputs": [],
   "source": [
    "#create columns of income proportion relative to total population in each census tract\n",
    "income_cols = []\n",
    "for col in census_data.columns:\n",
    "    if col[:6] == 'income':\n",
    "        income_cols.append(col)\n",
    "        "
   ]
  },
  {
   "cell_type": "code",
   "execution_count": null,
   "id": "03063e5a-e3db-4dc5-9c88-2214463f39fa",
   "metadata": {},
   "outputs": [],
   "source": [
    "income_cols += ['code_tract']\n",
    "#set south american coordinate system\n",
    "iso_plot = iso_plot.to_crs(epsg=4674)\n",
    "\n",
    "overlay_iso_tract = gpd.overlay(iso_plot, tracts, how='intersection')\n",
    "\n",
    "#get each intersection area between isolation hexagons and census tracts\n",
    "overlay_iso_tract = overlay_iso_tract.merge(iso_plot[['h3', 'geometry']], on='h3')\n",
    "\n",
    "#get proportion of isolation hexagon in each census tract-iso hexagon intersection area\n",
    "overlay_iso_tract['overlap_proportion'] = [x.area/y.area for x, y in zip(overlay_iso_tract['geometry_x'], overlay_iso_tract['geometry_y'])]\n",
    "\n",
    "#make code_tract as int for comparability\n",
    "overlay_iso_tract.code_tract = overlay_iso_tract.code_tract.astype(int)"
   ]
  },
  {
   "cell_type": "code",
   "execution_count": null,
   "id": "38457383-c546-406a-8ad4-c31cac6be9b8",
   "metadata": {
    "tags": []
   },
   "outputs": [],
   "source": [
    "#merge intersection areas with the proportions of demographic information from each census group\n",
    "overlay_w_propor = overlay_iso_tract.merge(census_data[income_cols], how='left', on='code_tract' )"
   ]
  },
  {
   "cell_type": "code",
   "execution_count": null,
   "id": "6f76bcdb-3fdf-4b08-886d-5812a6f83f67",
   "metadata": {},
   "outputs": [],
   "source": [
    "#create weighted proportions for each h3 area's demographic info based on proportion of total area in given census tract\n",
    "for col in income_cols:\n",
    "    overlay_w_propor[f'weighted_{col}'] = overlay_w_propor[col] * overlay_w_propor['overlap_proportion']"
   ]
  },
  {
   "cell_type": "code",
   "execution_count": null,
   "id": "a0e568af-d452-46dd-a4e4-25d6bbe908b0",
   "metadata": {},
   "outputs": [],
   "source": [
    "#create columns of demographic proportion relative to total population in each census tract\n",
    "income_cols = []\n",
    "for col in overlay_w_propor.columns:\n",
    "    if col[:8] == 'weighted':\n",
    "        income_cols.append(col)\n",
    "        "
   ]
  },
  {
   "cell_type": "code",
   "execution_count": null,
   "id": "188d1378-8b0f-4d59-9db4-5cdbc611374c",
   "metadata": {},
   "outputs": [],
   "source": [
    "income_cols= income_cols[:-1]"
   ]
  },
  {
   "cell_type": "code",
   "execution_count": null,
   "id": "ebdc5c36-fe5c-4f12-a715-870f8af52575",
   "metadata": {},
   "outputs": [
    {
     "data": {
      "text/plain": [
       "['weighted_income_avg_head',\n",
       " 'weighted_income_total',\n",
       " 'weighted_income_0',\n",
       " 'weighted_income_1',\n",
       " 'weighted_income_2',\n",
       " 'weighted_code_tract']"
      ]
     },
     "metadata": {},
     "output_type": "display_data"
    }
   ],
   "source": [
    "income_cols"
   ]
  },
  {
   "cell_type": "code",
   "execution_count": null,
   "id": "3ad75119-5b1d-4a1b-b908-d5fdaa6f52e9",
   "metadata": {},
   "outputs": [],
   "source": [
    "overlay_w_propor = overlay_w_propor.iloc[:, :-1]"
   ]
  },
  {
   "cell_type": "code",
   "execution_count": null,
   "id": "35f611da-946d-4df2-b2c1-4a886d7f2855",
   "metadata": {},
   "outputs": [],
   "source": [
    "h3_income = overlay_w_propor.groupby('h3')[income_cols].sum()"
   ]
  },
  {
   "cell_type": "code",
   "execution_count": null,
   "id": "2987288d-67ba-4c0f-b6d7-3942dd507897",
   "metadata": {},
   "outputs": [
    {
     "data": {
      "text/html": [
       "<div>\n",
       "<style scoped>\n",
       "    .dataframe tbody tr th:only-of-type {\n",
       "        vertical-align: middle;\n",
       "    }\n",
       "\n",
       "    .dataframe tbody tr th {\n",
       "        vertical-align: top;\n",
       "    }\n",
       "\n",
       "    .dataframe thead th {\n",
       "        text-align: right;\n",
       "    }\n",
       "</style>\n",
       "<table border=\"1\" class=\"dataframe\">\n",
       "  <thead>\n",
       "    <tr style=\"text-align: right;\">\n",
       "      <th></th>\n",
       "      <th>weighted_income_avg_head</th>\n",
       "      <th>weighted_income_total</th>\n",
       "      <th>weighted_income_0</th>\n",
       "      <th>weighted_income_1</th>\n",
       "      <th>weighted_income_2</th>\n",
       "    </tr>\n",
       "    <tr>\n",
       "      <th>h3</th>\n",
       "      <th></th>\n",
       "      <th></th>\n",
       "      <th></th>\n",
       "      <th></th>\n",
       "      <th></th>\n",
       "    </tr>\n",
       "  </thead>\n",
       "  <tbody>\n",
       "    <tr>\n",
       "      <th>88a8100001fffff</th>\n",
       "      <td>1143.143445</td>\n",
       "      <td>219045.011075</td>\n",
       "      <td>7.212334</td>\n",
       "      <td>51.759904</td>\n",
       "      <td>148.251059</td>\n",
       "    </tr>\n",
       "    <tr>\n",
       "      <th>88a8100003fffff</th>\n",
       "      <td>928.374062</td>\n",
       "      <td>266227.034608</td>\n",
       "      <td>5.355643</td>\n",
       "      <td>76.529913</td>\n",
       "      <td>189.355202</td>\n",
       "    </tr>\n",
       "    <tr>\n",
       "      <th>88a8100005fffff</th>\n",
       "      <td>1004.591452</td>\n",
       "      <td>387886.510746</td>\n",
       "      <td>11.044067</td>\n",
       "      <td>94.836875</td>\n",
       "      <td>326.202259</td>\n",
       "    </tr>\n",
       "    <tr>\n",
       "      <th>88a8100007fffff</th>\n",
       "      <td>1160.208616</td>\n",
       "      <td>423527.487669</td>\n",
       "      <td>8.900752</td>\n",
       "      <td>90.437966</td>\n",
       "      <td>249.151094</td>\n",
       "    </tr>\n",
       "    <tr>\n",
       "      <th>88a8100009fffff</th>\n",
       "      <td>2069.354689</td>\n",
       "      <td>702143.748680</td>\n",
       "      <td>3.386166</td>\n",
       "      <td>68.824963</td>\n",
       "      <td>193.317424</td>\n",
       "    </tr>\n",
       "    <tr>\n",
       "      <th>...</th>\n",
       "      <td>...</td>\n",
       "      <td>...</td>\n",
       "      <td>...</td>\n",
       "      <td>...</td>\n",
       "      <td>...</td>\n",
       "    </tr>\n",
       "    <tr>\n",
       "      <th>88a812b4d7fffff</th>\n",
       "      <td>1115.374845</td>\n",
       "      <td>446098.731205</td>\n",
       "      <td>13.022348</td>\n",
       "      <td>117.310452</td>\n",
       "      <td>317.582862</td>\n",
       "    </tr>\n",
       "    <tr>\n",
       "      <th>88a812b4d9fffff</th>\n",
       "      <td>1486.043800</td>\n",
       "      <td>210526.126063</td>\n",
       "      <td>9.380995</td>\n",
       "      <td>45.194918</td>\n",
       "      <td>84.349785</td>\n",
       "    </tr>\n",
       "    <tr>\n",
       "      <th>88a812b4ddfffff</th>\n",
       "      <td>1513.275799</td>\n",
       "      <td>539765.072796</td>\n",
       "      <td>12.047683</td>\n",
       "      <td>89.093817</td>\n",
       "      <td>274.790064</td>\n",
       "    </tr>\n",
       "    <tr>\n",
       "      <th>88a812b6b5fffff</th>\n",
       "      <td>998.907446</td>\n",
       "      <td>318560.754692</td>\n",
       "      <td>25.278079</td>\n",
       "      <td>104.955868</td>\n",
       "      <td>260.965943</td>\n",
       "    </tr>\n",
       "    <tr>\n",
       "      <th>88a812b6e3fffff</th>\n",
       "      <td>1216.347401</td>\n",
       "      <td>180273.341049</td>\n",
       "      <td>15.289852</td>\n",
       "      <td>54.151630</td>\n",
       "      <td>129.386571</td>\n",
       "    </tr>\n",
       "  </tbody>\n",
       "</table>\n",
       "<p>2893 rows × 5 columns</p>\n",
       "</div>"
      ],
      "text/plain": [
       "                 weighted_income_avg_head  weighted_income_total  \\\n",
       "h3                                                                 \n",
       "88a8100001fffff               1143.143445          219045.011075   \n",
       "88a8100003fffff                928.374062          266227.034608   \n",
       "88a8100005fffff               1004.591452          387886.510746   \n",
       "88a8100007fffff               1160.208616          423527.487669   \n",
       "88a8100009fffff               2069.354689          702143.748680   \n",
       "...                                   ...                    ...   \n",
       "88a812b4d7fffff               1115.374845          446098.731205   \n",
       "88a812b4d9fffff               1486.043800          210526.126063   \n",
       "88a812b4ddfffff               1513.275799          539765.072796   \n",
       "88a812b6b5fffff                998.907446          318560.754692   \n",
       "88a812b6e3fffff               1216.347401          180273.341049   \n",
       "\n",
       "                 weighted_income_0  weighted_income_1  weighted_income_2  \n",
       "h3                                                                        \n",
       "88a8100001fffff           7.212334          51.759904         148.251059  \n",
       "88a8100003fffff           5.355643          76.529913         189.355202  \n",
       "88a8100005fffff          11.044067          94.836875         326.202259  \n",
       "88a8100007fffff           8.900752          90.437966         249.151094  \n",
       "88a8100009fffff           3.386166          68.824963         193.317424  \n",
       "...                            ...                ...                ...  \n",
       "88a812b4d7fffff          13.022348         117.310452         317.582862  \n",
       "88a812b4d9fffff           9.380995          45.194918          84.349785  \n",
       "88a812b4ddfffff          12.047683          89.093817         274.790064  \n",
       "88a812b6b5fffff          25.278079         104.955868         260.965943  \n",
       "88a812b6e3fffff          15.289852          54.151630         129.386571  \n",
       "\n",
       "[2893 rows x 5 columns]"
      ]
     },
     "metadata": {},
     "output_type": "display_data"
    }
   ],
   "source": [
    "h3_income"
   ]
  },
  {
   "cell_type": "code",
   "execution_count": null,
   "id": "3947436a-4eb8-47fd-a536-11a642a56c82",
   "metadata": {},
   "outputs": [],
   "source": [
    "h3_income.to_csv(data_path + 'estimates/h3_income.csv')"
   ]
  },
  {
   "cell_type": "code",
   "execution_count": null,
   "id": "7a259cf6-d361-4d1c-88fb-1282c633295e",
   "metadata": {},
   "outputs": [],
   "source": [
    "import h3\n",
    "import pandas as pd\n",
    "import geopandas as gpd\n",
    "import shapely\n",
    "import pandas as pd\n",
    "from shapely.geometry import MultiPolygon, Polygon, Point\n",
    "import numpy as np\n",
    "import contextily as ctx\n",
    "import matplotlib.pyplot as plt\n",
    "import geobr\n",
    "import pyreadr\n",
    "import matplotlib\n",
    "%matplotlib inline"
   ]
  },
  {
   "cell_type": "markdown",
   "id": "f1a0a72f-4769-4654-9d0c-52d569345ae7",
   "metadata": {},
   "source": [
    "### Get Commuting Flow Data"
   ]
  },
  {
   "cell_type": "code",
   "execution_count": null,
   "id": "b98f27f2-e4ec-4440-ac16-5a9e39821d00",
   "metadata": {
    "tags": []
   },
   "outputs": [],
   "source": [
    "commute = pd.read_csv('Data/data-raw/travel_survey/travel_matrix_spo2017.csv')\n",
    "labels= pd.read_excel('Data/zone_labels.xlsx', skiprows=3, header = 1)"
   ]
  },
  {
   "cell_type": "code",
   "execution_count": null,
   "id": "59ecd7e9-1111-4bb7-9829-e58d076a4086",
   "metadata": {
    "tags": []
   },
   "outputs": [],
   "source": [
    "#clean and merge dataframes\n",
    "labels = labels[2:]\n",
    "labels['Zona'] = labels[labels['Zona'] != 'nan']\n",
    "labels['Zona'] = labels[labels['Zona'] != 'N°']\n",
    "labels['Zona'] = labels[labels['Zona'] != 'Zona']\n",
    "labels['Zona'] = labels['Zona'].astype(float)\n",
    "labels.rename(columns={'Unnamed: 1': 'zona_nome', 'Unnamed: 3': 'municipio_nome', 'Unnamed: 5': 'distrito_nome'}, inplace=True)\n",
    "labels.drop('Unnamed: 7', axis=1, inplace=True)\n",
    "#commute = commute.merge(labels, left_on='ZONA_O', right_on='Zona')\n",
    "\n",
    "\n",
    "# remove missing values\n",
    "commute = commute[~commute['ZONA_O'].isnull()]\n",
    "commute = commute[~commute['ZONA_D'].isnull()]\n",
    "commute = commute[commute['ZONA_O'] != 'nan']\n",
    "commute = commute[commute['ZONA_D'] != 'nan']\n",
    "commute = commute[~commute['mean_time'].isnull()]"
   ]
  },
  {
   "cell_type": "code",
   "execution_count": null,
   "id": "29f6586a-476c-45b9-834a-2dd687680fcb",
   "metadata": {},
   "outputs": [],
   "source": [
    "commute_orig = commute_orig[['ZONA_O', 'pop_orig']]"
   ]
  },
  {
   "cell_type": "code",
   "execution_count": null,
   "id": "9b01df5e-de85-4993-95da-5a68dbc497ae",
   "metadata": {},
   "outputs": [],
   "source": [
    "commute_orig.dropna(inplace=True)"
   ]
  },
  {
   "cell_type": "code",
   "execution_count": null,
   "id": "4e0a5683-5de5-49c7-b3d9-8fe8c54fcf33",
   "metadata": {},
   "outputs": [],
   "source": [
    "commute_orig['ZONA_O'] = commute_orig['ZONA_O'].astype(int)"
   ]
  },
  {
   "cell_type": "code",
   "execution_count": null,
   "id": "63b159c6-5c97-4b6f-a0af-c67be8c35ed6",
   "metadata": {},
   "outputs": [],
   "source": [
    "commute_orig.drop_duplicates('ZONA_O', inplace=True)"
   ]
  },
  {
   "cell_type": "markdown",
   "id": "43807caa-1395-40df-af4a-dccebeefbf5d",
   "metadata": {},
   "source": [
    "### Estimate 2020 Population for Commuting Zones and Estimate H3 Population Based on Degree of Overlap"
   ]
  },
  {
   "cell_type": "markdown",
   "id": "2b670f2a-787b-4511-941b-f6bb68b4fab3",
   "metadata": {},
   "source": [
    "#### Rate of Population Growth in Sao Paulo"
   ]
  },
  {
   "cell_type": "code",
   "execution_count": null,
   "id": "0cecb36d-8b39-43ee-b264-a3310dbb6f2d",
   "metadata": {},
   "outputs": [],
   "source": [
    "commute = pd.read_csv('Data/data-raw/travel_survey/travel_matrix_spo2017.csv')"
   ]
  },
  {
   "cell_type": "code",
   "execution_count": null,
   "id": "ecacc8d9-1e85-465f-95b8-b96db82ca913",
   "metadata": {},
   "outputs": [],
   "source": [
    "pop_SP_2010 = 11253503\n",
    "pop_SP_2019 = 12252023"
   ]
  },
  {
   "cell_type": "code",
   "execution_count": null,
   "id": "53da369d-050e-4e2f-8a3f-81bc9df740c4",
   "metadata": {},
   "outputs": [
    {
     "name": "stdout",
     "output_type": "stream",
     "text": [
      "Yearly population growth rate in SP:\n",
      "1.009490 or 0.9490%\n"
     ]
    }
   ],
   "source": [
    "delta_t = 9\n",
    "yearly_rate = (pop_SP_2019/pop_SP_2010)**(1.0/delta_t)\n",
    "\n",
    "print('Yearly population growth rate in SP:\\n{:.6f} or {:2.4f}%'.format(yearly_rate, (yearly_rate-1)*100 ))"
   ]
  },
  {
   "cell_type": "code",
   "execution_count": null,
   "id": "24035b41-fc5a-4ea3-95bf-7d68d98ebf36",
   "metadata": {},
   "outputs": [
    {
     "name": "stdout",
     "output_type": "stream",
     "text": [
      "Estimated total SP population in 2020: 12368301\n"
     ]
    }
   ],
   "source": [
    "pop_SP_2020 = round(pop_SP_2010*(yearly_rate**10))\n",
    "\n",
    "print('Estimated total SP population in 2020:',pop_SP_2020)"
   ]
  },
  {
   "cell_type": "code",
   "execution_count": null,
   "id": "9987816e-c857-4192-8738-7eb5d9a2c0e8",
   "metadata": {},
   "outputs": [],
   "source": [
    "commute_orig['2020_pop'] = commute_orig['pop_orig'] * yearly_rate**3"
   ]
  },
  {
   "cell_type": "markdown",
   "id": "d545edf4",
   "metadata": {},
   "source": [
    "### Interpolate 2020-Scaled Commuting Region Populations"
   ]
  },
  {
   "cell_type": "code",
   "execution_count": null,
   "id": "157f17ca-e8be-4c82-8915-ea2fa8502939",
   "metadata": {},
   "outputs": [],
   "source": [
    "import fiona\n",
    "shape = fiona.open(\"Data/data-raw/travel_survey/Zonas_2017_region.shp\")\n",
    "# Build the GeoDataFrame from Fiona Collection\n",
    "commute_zones = gpd.GeoDataFrame.from_features([feature for feature in shape], crs = 29193)\n",
    "# Get the order of the fields in the Fiona Collection; add geometry to the end\n",
    "columns = list(shape.meta[\"schema\"][\"properties\"]) + [\"geometry\"]\n",
    "# Re-order columns in the correct order\n",
    "commute_zones = commute_zones[columns]"
   ]
  },
  {
   "cell_type": "code",
   "execution_count": null,
   "id": "90bf9cd9-9e69-494a-a940-7c3a237b0dce",
   "metadata": {},
   "outputs": [],
   "source": [
    "commute_zones.to_crs(crs=4674, inplace=True)\n",
    "iso_plot.to_crs(crs=4674, inplace=True)"
   ]
  },
  {
   "cell_type": "code",
   "execution_count": null,
   "id": "839a3f6d-6bc9-419c-993d-92648fe8dc8b",
   "metadata": {},
   "outputs": [],
   "source": [
    "#Get area of commuting zones\n",
    "commute_zones['zona_area'] = [x.area for x in commute_zones['geometry']]\n",
    "\n",
    "#get intersections of isolation zones and commuting zones\n",
    "iso_commute = gpd.overlay(iso_plot, commute_zones )\n",
    "\n",
    "#get area of overlapping regions\n",
    "iso_commute['overlap_area'] = [x.area for x in iso_commute['geometry']]\n",
    "\n",
    "\n",
    "iso_commute = iso_commute[['h3', 'NumeroZona', 'overlap_area', 'zona_area']]\n",
    "\n",
    "iso_commute = iso_commute.merge(commute_orig, left_on='NumeroZona', right_on='ZONA_O')\n",
    "\n",
    "#get proportion of total commuting area covered by a given hexagon\n",
    "iso_commute['overlap_propor'] = iso_commute['overlap_area'] / iso_commute['zona_area']\n",
    "\n",
    "iso_commute['2020_pop_h3'] = iso_commute['overlap_propor'] * iso_commute['2020_pop'] \n",
    "\n",
    "iso_commute = iso_commute[['h3', '2020_pop_h3']]"
   ]
  },
  {
   "cell_type": "code",
   "execution_count": null,
   "id": "415fca4a-7078-473e-b37b-930d06eeb309",
   "metadata": {},
   "outputs": [],
   "source": [
    "iso_commute.groupby('h3').sum().to_csv('Data/estimates/h3_pop.csv')"
   ]
  },
  {
   "cell_type": "markdown",
   "id": "cfbe0439",
   "metadata": {},
   "source": [
    "### Interpolate Commuting Flow Information to Social Isolation Hexagon Level"
   ]
  },
  {
   "cell_type": "code",
   "execution_count": 15,
   "id": "349ec763",
   "metadata": {
    "tags": []
   },
   "outputs": [],
   "source": [
    "commute = pd.read_csv(data_path + '/data-raw/travel_survey/travel_matrix_spo2017.csv')\n",
    "labels= pd.read_excel(data_path + '/zone_labels.xlsx', skiprows=3, header = 1)"
   ]
  },
  {
   "cell_type": "code",
   "execution_count": 16,
   "id": "f718761a",
   "metadata": {
    "tags": []
   },
   "outputs": [],
   "source": [
    "#clean and merge dataframes\n",
    "labels = labels[2:]\n",
    "labels['Zona'] = labels[labels['Zona'] != 'nan']\n",
    "labels['Zona'] = labels[labels['Zona'] != 'N°']\n",
    "labels['Zona'] = labels[labels['Zona'] != 'Zona']\n",
    "labels['Zona'] = labels['Zona'].astype(float)\n",
    "labels.rename(columns={'Unnamed: 1': 'zona_nome', 'Unnamed: 3': 'municipio_nome', 'Unnamed: 5': 'distrito_nome'}, inplace=True)\n",
    "labels.drop('Unnamed: 7', axis=1, inplace=True)\n",
    "#commute = commute.merge(labels, left_on='ZONA_O', right_on='Zona')\n",
    "\n",
    "\n",
    "# remove missing values\n",
    "commute = commute[~commute['ZONA_O'].isnull()]\n",
    "commute = commute[~commute['ZONA_D'].isnull()]\n",
    "commute = commute[commute['ZONA_O'] != 'nan']\n",
    "commute = commute[commute['ZONA_D'] != 'nan']\n",
    "commute = commute[~commute['mean_time'].isnull()]"
   ]
  },
  {
   "cell_type": "code",
   "execution_count": 17,
   "id": "29618042",
   "metadata": {},
   "outputs": [],
   "source": [
    "import fiona\n",
    "shape = fiona.open(data_path + \"/data-raw/travel_survey/Zonas_2017_region.shp\")"
   ]
  },
  {
   "cell_type": "code",
   "execution_count": 19,
   "id": "3f79ae84",
   "metadata": {},
   "outputs": [],
   "source": [
    "# Build the GeoDataFrame from Fiona Collection\n",
    "commute_zones = gpd.GeoDataFrame.from_features([feature for feature in shape], crs = 29193)\n",
    "# Get the order of the fields in the Fiona Collection; add geometry to the end\n",
    "columns = list(shape.meta[\"schema\"][\"properties\"]) + [\"geometry\"]\n",
    "# Re-order columns in the correct order\n",
    "commute_zones = commute_zones[columns]"
   ]
  },
  {
   "cell_type": "code",
   "execution_count": 314,
   "id": "9abe2cbe",
   "metadata": {},
   "outputs": [],
   "source": [
    "commute_zones.to_crs(crs=4674, inplace=True)\n",
    "iso_plot.to_crs(crs=4674, inplace=True)"
   ]
  },
  {
   "cell_type": "code",
   "execution_count": 315,
   "id": "e881c6e9",
   "metadata": {},
   "outputs": [],
   "source": [
    "commute_zones.to_file('Data/data-raw/travel_survey/commute_shapes.shp')\n",
    "\n",
    "commute_zones = gpd.read_file('Data/data-raw/travel_survey/Zonas_2017_region.shp')\n",
    "\n",
    "#Get area of commuting zones\n",
    "commute_zones['zona_area'] = [x.area for x in commute_zones['geometry']]\n",
    "\n",
    "#get intersections of isolation zones and commuting zones\n",
    "iso_commute = gpd.overlay(iso_plot, commute_zones )\n",
    "\n",
    "#get area of overlapping regions\n",
    "iso_commute['overlap_area'] = [x.area for x in iso_commute['geometry']]\n",
    "\n",
    "\n",
    "iso_commute = iso_commute[['h3', 'FID', 'overlap_area', 'zona_area']]\n",
    "\n",
    "#get proportion of total commuting area covered by a given hexagon\n",
    "iso_commute['propor_overlap'] = iso_commute['overlap_area'] / iso_commute['zona_area']\n",
    "\n",
    "#create dataframe to hold h3-commuting zone proportions\n",
    "overlap_extent_matrix = pd.DataFrame(index=iso_plot['h3'], columns=commute_zones['NumeroZona'])\n",
    "\n",
    "#fill in dataframe with proportions\n",
    "for index, row in iso_commute.iterrows():\n",
    "    overlap_extent_matrix.loc[row['h3'], row['FID']] = row['propor_overlap']"
   ]
  },
  {
   "cell_type": "code",
   "execution_count": 378,
   "id": "e00c4bf9",
   "metadata": {},
   "outputs": [],
   "source": [
    "overlap_extent_matrix.replace(to_replace=np.nan, value=0, inplace=True)\n",
    "overlap_extent_matrix = overlap_extent_matrix.transpose()\n",
    "overlap_extent_matrix.to_csv('Data/data-raw/travel_survey/overlap_extent.csv')"
   ]
  },
  {
   "cell_type": "code",
   "execution_count": 669,
   "id": "40a21b6a",
   "metadata": {},
   "outputs": [],
   "source": [
    "#get commuting origins as strings\n",
    "commute['ZONA_O'] = commute['ZONA_O'].astype(str)\n",
    "\n",
    "#get overlap extent index as string\n",
    "overlap_extent_matrix.index = overlap_extent_matrix.index.astype(str)"
   ]
  },
  {
   "cell_type": "code",
   "execution_count": 671,
   "id": "72b7e92d",
   "metadata": {},
   "outputs": [],
   "source": [
    "#create column to hold original commuting origin zone\n",
    "commute['ZONA_O_orig'] = commute['ZONA_O']"
   ]
  },
  {
   "cell_type": "code",
   "execution_count": 675,
   "id": "8f112ccc",
   "metadata": {},
   "outputs": [],
   "source": [
    "overlap_extent_matrix.set_index('NumeroZona', inplace=True)"
   ]
  },
  {
   "cell_type": "code",
   "execution_count": 677,
   "id": "086fb685",
   "metadata": {
    "tags": []
   },
   "outputs": [],
   "source": [
    "#replace origin commuting zone with all h3 zones which cover some proportion of the origin commuting zone\n",
    "for zone in commute['ZONA_O'].unique():\n",
    "    val = [col for col in overlap_extent_matrix.columns if overlap_extent_matrix.loc[zone, col] != 0]\n",
    "    commute['ZONA_O'].replace(to_replace=zone, value= str(val), inplace=True)    "
   ]
  },
  {
   "cell_type": "code",
   "execution_count": 678,
   "id": "b8f7c88e",
   "metadata": {},
   "outputs": [],
   "source": [
    "commute['ZONA_O'] = [ast.literal_eval(x) for x in commute['ZONA_O']]\n",
    "commute = commute.explode('ZONA_O')"
   ]
  },
  {
   "cell_type": "code",
   "execution_count": 680,
   "id": "d0dc2c43",
   "metadata": {},
   "outputs": [],
   "source": [
    "commute.reset_index(inplace=True, drop=True)\n",
    "\n",
    "overlap_extent_matrix.reset_index(inplace=True)"
   ]
  },
  {
   "cell_type": "code",
   "execution_count": 683,
   "id": "56abdd41",
   "metadata": {},
   "outputs": [],
   "source": [
    "pivoted = overlap_extent_matrix.melt(id_vars='NumeroZona')\n",
    "\n",
    "#merge proportion of origin commuting zone covered by each overlapping h3\n",
    "commute = commute.merge(pivoted, left_on=['ZONA_O_orig', 'ZONA_O'], right_on=['NumeroZona', 'h3'])"
   ]
  },
  {
   "cell_type": "code",
   "execution_count": 694,
   "id": "9ba380ef",
   "metadata": {},
   "outputs": [],
   "source": [
    "commute.rename(columns={'value': 'O_propor'}, inplace=True)\n",
    "\n",
    "#multiply count of people from two commuting zones by the proportion of the origin commuting zone covered by the h3 \n",
    "#gives estimate h3 --> commuting zone\n",
    "commute['weighted_count'] = commute['O_propor'] * commute['count']"
   ]
  },
  {
   "cell_type": "code",
   "execution_count": 697,
   "id": "fc6f7ac4",
   "metadata": {},
   "outputs": [],
   "source": [
    "commute['ZONA_D'] = commute['ZONA_D'].astype(str)\n",
    "overlap_extent_matrix.index = overlap_extent_matrix.index.astype(str)\n",
    "commute['ZONA_D_orig'] = commute['ZONA_D']\n",
    "\n",
    "overlap_extent_matrix.set_index('NumeroZona', inplace=True)"
   ]
  },
  {
   "cell_type": "code",
   "execution_count": 621,
   "id": "e7539ae3",
   "metadata": {},
   "outputs": [],
   "source": [
    "#get destination h3 zones which cover the commuting zone destinations\n",
    "for zone in commute['ZONA_D'].unique():\n",
    "    val = [col for col in overlap_extent_matrix.columns if overlap_extent_matrix.loc[zone, col] != 0]\n",
    "    commute['ZONA_D'].replace(to_replace=zone, value= str(val), inplace=True)    "
   ]
  },
  {
   "cell_type": "code",
   "execution_count": 698,
   "id": "36d040c9",
   "metadata": {},
   "outputs": [],
   "source": [
    "commute['ZONA_D'] = [ast.literal_eval(x) for x in commute['ZONA_D']]"
   ]
  },
  {
   "cell_type": "code",
   "execution_count": 703,
   "id": "6b8cc356",
   "metadata": {},
   "outputs": [],
   "source": [
    "commute = commute.explode('ZONA_D')"
   ]
  },
  {
   "cell_type": "code",
   "execution_count": 705,
   "id": "75ce4b13",
   "metadata": {},
   "outputs": [],
   "source": [
    "commute.reset_index(inplace=True, drop=True)"
   ]
  },
  {
   "cell_type": "code",
   "execution_count": 709,
   "id": "0d2e0cb7",
   "metadata": {},
   "outputs": [],
   "source": [
    "#get proportions of commuting destination zones covered by the intersecting h3 zones\n",
    "commute = commute.merge(pivoted, left_on=['ZONA_D_orig', 'ZONA_D'], right_on=['NumeroZona', 'h3'])"
   ]
  },
  {
   "cell_type": "code",
   "execution_count": 710,
   "id": "b32a475b",
   "metadata": {},
   "outputs": [],
   "source": [
    "#multiply 'h3' origin --> 'commuting zone' destination count by the proportion of destination commuting zone covered by h3\n",
    "# get h3 --> h3 estimate\n",
    "commute['final_count'] = commute['weighted_count'] * commute['value']"
   ]
  },
  {
   "cell_type": "code",
   "execution_count": 715,
   "id": "5f38d7d4",
   "metadata": {},
   "outputs": [],
   "source": [
    "commute.to_csv('Data/data-raw/travel_survey/h3_commute.csv')"
   ]
  },
  {
   "cell_type": "markdown",
   "id": "a20ef2ee",
   "metadata": {},
   "source": [
    "#### Create Clean OD Matrix of Hexagon Commuting"
   ]
  },
  {
   "cell_type": "code",
   "execution_count": null,
   "id": "0e54524b",
   "metadata": {},
   "outputs": [],
   "source": [
    "h3_ids = pd.read_csv('/Users/shivyucel/Documents/SDS_2021.nosync/SDS_2020-2021/SDS_Thesis/Data/h3/h3_IDs.csv')\n",
    "\n",
    "df = pd.read_csv(data_path + 'data-raw/travel_survey/h3_commute.csv')\n",
    "\n",
    "df = df[['ZONA_O', 'ZONA_D', 'final_count']]\n",
    "\n",
    "df = df.merge(h3_ids, left_on='ZONA_O', right_on='Unnamed: 0')\n",
    "\n",
    "df = df.merge(h3_ids, left_on='ZONA_D', right_on='Unnamed: 0')\n",
    "\n",
    "df = df.rename(columns={'0_x': 'SOURCE', '0_y': 'TARGET', 'final_count': 'FLUX'})[['SOURCE', 'TARGET', 'FLUX']]\n",
    "\n",
    "df1 = pd.DataFrame(df.groupby(['SOURCE', 'TARGET'])['FLUX'].agg(sum))\n",
    "df1.reset_index(inplace=True)\n",
    "\n",
    "#df1.to_csv(data_path + 'h3/paper_clean_commute.csv')"
   ]
  }
 ],
 "metadata": {
  "interpreter": {
   "hash": "3000151dad639a5b884f482d55293518d422e78d7667ef7f9f66f3633cb45ad0"
  },
  "kernelspec": {
   "display_name": "Python 3",
   "language": "python",
   "name": "python3"
  },
  "language_info": {
   "codemirror_mode": {
    "name": "ipython",
    "version": 3
   },
   "file_extension": ".py",
   "mimetype": "text/x-python",
   "name": "python",
   "nbconvert_exporter": "python",
   "pygments_lexer": "ipython3",
   "version": "3.9.4"
  }
 },
 "nbformat": 4,
 "nbformat_minor": 5
}
