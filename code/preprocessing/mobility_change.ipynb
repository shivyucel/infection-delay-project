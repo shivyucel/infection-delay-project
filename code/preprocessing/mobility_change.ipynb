{
 "cells": [
  {
   "cell_type": "code",
   "execution_count": 1,
   "id": "c77f89a9",
   "metadata": {},
   "outputs": [],
   "source": [
    "import pandas as pd\n",
    "import matplotlib.pyplot as plt\n",
    "import seaborn as sns\n",
    "import datetime as dt\n",
    "%matplotlib inline"
   ]
  },
  {
   "cell_type": "code",
   "execution_count": 5,
   "id": "7ebfbe72",
   "metadata": {},
   "outputs": [],
   "source": [
    "data_path = '/Users/shivyucel/Documents/Github.nosync/SDS_2020-2021.nosync/SDS_Thesis/Data/'"
   ]
  },
  {
   "cell_type": "code",
   "execution_count": 6,
   "id": "e7807223",
   "metadata": {},
   "outputs": [],
   "source": [
    "path = 'h3/commuting/h3_commute_Tij_radiation.csv'"
   ]
  },
  {
   "cell_type": "code",
   "execution_count": 9,
   "id": "368c5309",
   "metadata": {},
   "outputs": [],
   "source": [
    "isolation = pd.read_csv('/Users/shivyucel/Documents/SDS_2021.nosync/SDS_2020-2021/SDS_Thesis/Data/data-raw/isolation/isolation_sp_h3_Mar-Sep2020.csv')"
   ]
  },
  {
   "cell_type": "code",
   "execution_count": 10,
   "id": "d8ccf9a8",
   "metadata": {},
   "outputs": [],
   "source": [
    "isolation['dt'] = pd.to_datetime(isolation['dt'])\n",
    "isolation.sort_values(by='dt', inplace=True)"
   ]
  },
  {
   "cell_type": "code",
   "execution_count": 14,
   "id": "6ab4081f",
   "metadata": {},
   "outputs": [],
   "source": [
    "pre_iso = isolation[isolation['dt'] < '2020-03-16']\n",
    "pre_iso_level = pd.DataFrame(pre_iso.groupby('h3')['isolated'].mean())"
   ]
  },
  {
   "cell_type": "code",
   "execution_count": 15,
   "id": "da3175c6",
   "metadata": {},
   "outputs": [],
   "source": [
    "pre_iso_level.rename(columns={'isolated': 'baseline'}, inplace=True)"
   ]
  },
  {
   "cell_type": "code",
   "execution_count": 16,
   "id": "8cc9e031",
   "metadata": {},
   "outputs": [],
   "source": [
    "post_iso = isolation[(isolation['dt'] >= '2020-03-16') & (isolation['dt'] < '2020-03-30')]\n",
    "post_iso_level = pd.DataFrame(post_iso.groupby('h3')['isolated'].mean())\n",
    "post_iso_level.rename(columns={'isolated': 'intervention'}, inplace=True)"
   ]
  },
  {
   "cell_type": "code",
   "execution_count": 17,
   "id": "5322fe00",
   "metadata": {},
   "outputs": [],
   "source": [
    "merged = pre_iso_level.merge(post_iso_level, left_index=True, right_index=True)"
   ]
  },
  {
   "cell_type": "code",
   "execution_count": 18,
   "id": "b248b231",
   "metadata": {},
   "outputs": [],
   "source": [
    "merged['marginal_change'] = (merged['intervention'] - merged['baseline'])/merged['baseline']"
   ]
  },
  {
   "cell_type": "code",
   "execution_count": 44,
   "id": "54746eb0",
   "metadata": {},
   "outputs": [],
   "source": [
    "merged.to_csv(data_path + 'h3/commuting/new_mob_redux.csv')"
   ]
  }
 ],
 "metadata": {
  "kernelspec": {
   "display_name": "Python 3",
   "language": "python",
   "name": "python3"
  },
  "language_info": {
   "codemirror_mode": {
    "name": "ipython",
    "version": 3
   },
   "file_extension": ".py",
   "mimetype": "text/x-python",
   "name": "python",
   "nbconvert_exporter": "python",
   "pygments_lexer": "ipython3",
   "version": "3.9.4"
  }
 },
 "nbformat": 4,
 "nbformat_minor": 5
}
